{
 "cells": [
  {
   "cell_type": "code",
   "execution_count": 1,
   "metadata": {},
   "outputs": [],
   "source": [
    "from ocr import *\n",
    "from IPython.display import display, Image\n",
    "import PIL.Image"
   ]
  },
  {
   "cell_type": "code",
   "execution_count": 2,
   "metadata": {},
   "outputs": [
    {
     "name": "stdout",
     "output_type": "stream",
     "text": [
      "70 423\n",
      "70 424\n"
     ]
    }
   ],
   "source": [
    "tobe_ocr, res = ocr('img/times_tobe.png', None)\n",
    "# print(tobe_ocr)\n",
    "# print(hamlet_text)\n",
    "# print(pylcs.lcs(hamlet_text, tobe_ocr) / len(hamlet_text))\n",
    "# tobe_rot_ocr = ocr('img/times_tobe_rot.png', None)\n",
    "# print(pylcs.lcs(hamlet_text, tobe_rot_ocr) / len(hamlet_text))\n",
    "# print(ocr('img/times_ocr.png', None))"
   ]
  },
  {
   "cell_type": "code",
   "execution_count": 3,
   "metadata": {},
   "outputs": [
    {
     "data": {
      "image/png": "[encoded data removed]",
      "text/plain": [
       "<PIL.Image.Image image mode=L size=556x261 at 0x7F9B38FF0610>"
      ]
     },
     "metadata": {},
     "output_type": "display_data"
    },
    {
     "name": "stdout",
     "output_type": "stream",
     "text": [
      "To be, or not to be, that is the question\n",
      "Whether tis nobler in the mind to suffer\n",
      "The slings and arrows of outrageous fortune,\n",
      "Or to take arms against a sea oftroubles\n",
      "And by opposing end them. To die, to sleep,\n",
      "No more and by a sleep to say we end\n",
      "\n"
     ]
    }
   ],
   "source": [
    "display(PIL.Image.fromarray(res))\n",
    "print(tobe_ocr)"
   ]
  },
  {
   "cell_type": "code",
   "execution_count": null,
   "metadata": {},
   "outputs": [],
   "source": []
  }
 ],
 "metadata": {
  "kernelspec": {
   "display_name": "Python 3",
   "language": "python",
   "name": "python3"
  },
  "language_info": {
   "codemirror_mode": {
    "name": "ipython",
    "version": 3
   },
   "file_extension": ".py",
   "mimetype": "text/x-python",
   "name": "python",
   "nbconvert_exporter": "python",
   "pygments_lexer": "ipython3",
   "version": "3.7.4"
  }
 },
 "nbformat": 4,
 "nbformat_minor": 2
}
