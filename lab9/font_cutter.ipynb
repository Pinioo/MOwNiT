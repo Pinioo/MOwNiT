{
 "cells": [
  {
   "cell_type": "code",
   "execution_count": 1,
   "metadata": {},
   "outputs": [],
   "source": [
    "from ocr import *\n",
    "import PIL"
   ]
  },
  {
   "cell_type": "code",
   "execution_count": 2,
   "metadata": {},
   "outputs": [],
   "source": [
    "def cut_letter(letter, font, fontScale=1.5, spacing=0):\n",
    "    img = np.zeros((100,100,3), np.uint8)\n",
    "\n",
    "    bottomLeftCornerOfText = (10,90)\n",
    "    fontColor              = (255,255,255)\n",
    "    lineType               = 2\n",
    "\n",
    "    cv2.putText(\n",
    "        img,\n",
    "        letter, \n",
    "        bottomLeftCornerOfText, \n",
    "        font, \n",
    "        fontScale,\n",
    "        fontColor,\n",
    "        lineType)\n",
    "\n",
    "    a = np.where(img != 0)\n",
    "    y_top, y_bot, x_left, x_right = np.min(a[0]), np.max(a[0]), np.min(a[1]), np.max(a[1])\n",
    "\n",
    "    return cv2.bitwise_not(img[y_top:y_bot+1, x_left:x_right+1+spacing])\n",
    "    \n",
    "def cut_text(text, font, fontScale=1.5):\n",
    "    lines = text.split(\"\\n\")\n",
    "    img = np.zeros((8000,8000,3), np.uint8)\n",
    "\n",
    "    bottomLeftCornerOfText = (50,100)\n",
    "    fontColor              = (255,255,255)\n",
    "    lineType               = 2\n",
    "\n",
    "    for i, line in enumerate(lines):\n",
    "        cv2.putText(\n",
    "            img,\n",
    "            line, \n",
    "            (bottomLeftCornerOfText[0], bottomLeftCornerOfText[1] + i*50), \n",
    "            font, \n",
    "            fontScale,\n",
    "            fontColor,\n",
    "            lineType)\n",
    "\n",
    "    a = np.where(img != 0)\n",
    "    y_top, y_bot, x_left, x_right = np.min(a[0]), np.max(a[0]), np.min(a[1]), np.max(a[1])\n",
    "\n",
    "    return cv2.bitwise_not(img[:y_bot+50, :x_right+50])    \n",
    "\n",
    "def cut_font(font, fontname, fontScale=1.5, spacing=0):\n",
    "    for letter in available_letters:\n",
    "        cv2.imwrite(f\"img/{fontname}/{letter}.png\", cut_letter(letter, font, fontScale, spacing))\n",
    "    for digit in available_digits:\n",
    "        cv2.imwrite(f\"img/{fontname}/{digit}.png\", cut_letter(digit, font, fontScale, spacing))\n",
    "    for sign in available_signs:\n",
    "        cv2.imwrite(f\"img/{fontname}/s{sign}_.png\", cut_letter(sign, font, fontScale, spacing))"
   ]
  },
  {
   "cell_type": "code",
   "execution_count": 3,
   "metadata": {
    "scrolled": false
   },
   "outputs": [],
   "source": [
    "cut_font(cv2.FONT_HERSHEY_COMPLEX, \"hershey\", spacing=3)"
   ]
  },
  {
   "cell_type": "code",
   "execution_count": 4,
   "metadata": {},
   "outputs": [],
   "source": [
    "cv2.imwrite(f\"img/hershey_tobe.png\", cut_text(hamlet_text, cv2.FONT_HERSHEY_COMPLEX))\n",
    "cv2.imwrite(f\"img/hershey_ocr.png\", cut_text(ocr_wiki_text, cv2.FONT_HERSHEY_COMPLEX));"
   ]
  },
  {
   "cell_type": "code",
   "execution_count": 5,
   "metadata": {},
   "outputs": [],
   "source": [
    "cut_font(cv2.FONT_HERSHEY_PLAIN, \"hershey_p\", fontScale=3, spacing=5)"
   ]
  },
  {
   "cell_type": "code",
   "execution_count": 6,
   "metadata": {},
   "outputs": [
    {
     "data": {
      "text/plain": [
       "True"
      ]
     },
     "execution_count": 6,
     "metadata": {},
     "output_type": "execute_result"
    }
   ],
   "source": [
    "cv2.imwrite(\n",
    "    f\"img/hershey_p_tobe.png\", \n",
    "    cut_text(\n",
    "        hamlet_text, \n",
    "        cv2.FONT_HERSHEY_PLAIN, \n",
    "        fontScale=3\n",
    "    )\n",
    ")\n",
    "\n",
    "cv2.imwrite(\n",
    "    f\"img/hershey_p_ocr.png\", \n",
    "    cut_text(\n",
    "        ocr_wiki_text, \n",
    "        cv2.FONT_HERSHEY_PLAIN, \n",
    "        fontScale=3\n",
    "    )\n",
    ");"
   ]
  },
  {
   "cell_type": "code",
   "execution_count": null,
   "metadata": {},
   "outputs": [],
   "source": []
  }
 ],
 "metadata": {
  "kernelspec": {
   "display_name": "Python 3",
   "language": "python",
   "name": "python3"
  },
  "language_info": {
   "codemirror_mode": {
    "name": "ipython",
    "version": 3
   },
   "file_extension": ".py",
   "mimetype": "text/x-python",
   "name": "python",
   "nbconvert_exporter": "python",
   "pygments_lexer": "ipython3",
   "version": "3.7.4"
  }
 },
 "nbformat": 4,
 "nbformat_minor": 2
}
