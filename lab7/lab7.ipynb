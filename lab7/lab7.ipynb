{
 "cells": [
  {
   "cell_type": "markdown",
   "metadata": {},
   "source": [
    "# MOwNiT - lab 7\n",
    "## Dekompozycja spektralna"
   ]
  },
  {
   "cell_type": "markdown",
   "metadata": {},
   "source": [
    "## Metoda potęgowa"
   ]
  },
  {
   "cell_type": "code",
   "execution_count": 101,
   "metadata": {},
   "outputs": [],
   "source": [
    "import numpy as np\n",
    "from scipy import linalg as spla\n",
    "import time\n",
    "from datetime import timedelta"
   ]
  },
  {
   "cell_type": "code",
   "execution_count": 102,
   "metadata": {},
   "outputs": [],
   "source": [
    "def pow_method(A, epsilon=10e-10, max_iter=500):\n",
    "    N = A.shape[0]\n",
    "    xn = np.ones((N,1))\n",
    "    xn_dominant = 1\n",
    "    vals = []\n",
    "    errs = []\n",
    "    deduced_sign = 1\n",
    "    for _ in range(max_iter):\n",
    "        x0 = xn.copy()\n",
    "        xn = A @ x0\n",
    "        xn_dominant = np.max(np.abs(xn))\n",
    "        if xn[0] * x0[0] < 0:\n",
    "            deduced_sign = -1\n",
    "            xn *= -1\n",
    "        else:\n",
    "            deduced_sign = 1\n",
    "        vals += deduced_sign * xn_dominant\n",
    "        xn /= np.abs(xn_dominant)\n",
    "        diff = np.linalg.norm(xn - x0)\n",
    "        errs.append(diff)\n",
    "        if diff < epsilon:\n",
    "            break\n",
    "    xn /= np.linalg.norm(xn)\n",
    "    xn = np.reshape(xn, newshape = N)\n",
    "    return xn_dominant, xn , vals, errs"
   ]
  },
  {
   "cell_type": "code",
   "execution_count": 103,
   "metadata": {},
   "outputs": [],
   "source": [
    "def my_pow_method_test(size):\n",
    "    b = np.random.randint(100,500,size=(size,size))\n",
    "    b_symm = (b + b.T)/2\n",
    "\n",
    "    start_time = time.time()\n",
    "    my_dominant_value, _, _, _ = pow_method(b_symm)\n",
    "    end_time = time.time()\n",
    "    print(f\"My function execution time: {end_time - start_time}s\")\n",
    "    \n",
    "    start_time = time.time()\n",
    "    np_result = np.linalg.eig(b_symm)\n",
    "    end_time = time.time()\n",
    "    print(f\"NumPy function execution time: {end_time - start_time}s\")\n",
    "    np_dominant_value_index = np.argmax(np_result[0])\n",
    "    np_dominant_value = np_result[0][np_dominant_value_index]\n",
    "\n",
    "    value_diff = np_dominant_value - my_dominant_value\n",
    "    print(f\"My eigenvalue relative error = {np.abs(value_diff/np_dominant_value)}\")"
   ]
  },
  {
   "cell_type": "code",
   "execution_count": 104,
   "metadata": {},
   "outputs": [
    {
     "name": "stdout",
     "output_type": "stream",
     "text": [
      "__________________________\n",
      "Testing for matrix 500x500\n",
      "My function execution time: 0.0005257129669189453s\n",
      "NumPy function execution time: 0.09291815757751465s\n",
      "My eigenvalue relative error = 3.988789595942898e-11\n",
      "__________________________\n",
      "Testing for matrix 1000x1000\n",
      "My function execution time: 0.0011348724365234375s\n",
      "NumPy function execution time: 0.4185917377471924s\n",
      "My eigenvalue relative error = 3.965014491107554e-12\n",
      "__________________________\n",
      "Testing for matrix 1500x1500\n",
      "My function execution time: 0.003713369369506836s\n",
      "NumPy function execution time: 1.2703940868377686s\n",
      "My eigenvalue relative error = 3.874976684327119e-13\n",
      "__________________________\n",
      "Testing for matrix 2000x2000\n",
      "My function execution time: 0.0056531429290771484s\n",
      "NumPy function execution time: 2.9695348739624023s\n",
      "My eigenvalue relative error = 2.4806180784519463e-13\n",
      "__________________________\n",
      "Testing for matrix 2500x2500\n",
      "My function execution time: 0.009274005889892578s\n",
      "NumPy function execution time: 5.654892206192017s\n",
      "My eigenvalue relative error = 1.990477734382621e-14\n",
      "__________________________\n",
      "Testing for matrix 3000x3000\n",
      "My function execution time: 0.013777971267700195s\n",
      "NumPy function execution time: 12.94227409362793s\n",
      "My eigenvalue relative error = 8.60276819208339e-14\n"
     ]
    }
   ],
   "source": [
    "for i in range(1,7):\n",
    "    N = 100 * 5*i\n",
    "    print(\"__________________________\")\n",
    "    print(f\"Testing for matrix {N}x{N}\")\n",
    "    my_pow_method_test(N)"
   ]
  },
  {
   "cell_type": "markdown",
   "metadata": {},
   "source": [
    "## Inverse shifted power method"
   ]
  },
  {
   "cell_type": "code",
   "execution_count": 106,
   "metadata": {},
   "outputs": [],
   "source": [
    "def inv_pow_method(A, sigma, epsilon=10e-12, max_iter = 500):\n",
    "    N = A.shape[0]\n",
    "    xn = np.ones((N,1))\n",
    "    lup = spla.lu_factor(A - sigma*np.identity(N))\n",
    "    vals = []\n",
    "    errs = []\n",
    "    deduced_sign = 1\n",
    "    for _ in range(max_iter):\n",
    "        x0 = xn.copy()\n",
    "        xn = spla.lu_solve(lup, x0)\n",
    "        if xn[0] * x0[0] < 0:\n",
    "            deduced_sign = -1\n",
    "            xn *= -1\n",
    "        else:\n",
    "            deduced_sign = 1\n",
    "        \n",
    "        xn_dominant = deduced_sign * np.max(np.abs(xn))\n",
    "        vals.append(1/xn_dominant + sigma)\n",
    "        xn /= np.abs(xn_dominant)\n",
    "        \n",
    "        diff = np.linalg.norm(x0 - xn)\n",
    "        errs.append(diff)\n",
    "        if diff < epsilon:\n",
    "            break\n",
    "    xn /= np.linalg.norm(xn)\n",
    "    result = 1/xn_dominant + sigma\n",
    "    return result, xn, vals, errs "
   ]
  },
  {
   "cell_type": "code",
   "execution_count": 107,
   "metadata": {},
   "outputs": [],
   "source": [
    "def my_inv_pow_test(size, delta=10000):\n",
    "    b = np.random.randint(100,500,size=(size,size))\n",
    "    b_symm = (b + b.T)/2\n",
    "    \n",
    "    start_time = time.time()\n",
    "    np_result = np.linalg.eig(b_symm)\n",
    "    end_time = time.time()\n",
    "    print(f\"NumPy function execution time: {end_time - start_time}s\")\n",
    "    np_index = np.argmin(np.abs(np_result[0] - delta))\n",
    "    np_value = np_result[0][np_index]\n",
    "    \n",
    "    \n",
    "    start_time = time.time()\n",
    "    my_value, _, _, _ = inv_pow_method(b_symm, delta)\n",
    "    end_time = time.time()\n",
    "    print(f\"My function execution time: {end_time - start_time}s\")\n",
    "    \n",
    "    value_diff = np_value - my_value\n",
    "    print(f\"My eigenvalue relative error = {np.abs(value_diff / np_value)}\")"
   ]
  },
  {
   "cell_type": "code",
   "execution_count": 108,
   "metadata": {},
   "outputs": [
    {
     "name": "stdout",
     "output_type": "stream",
     "text": [
      "__________________________\n",
      "Testing for matrix 500x500\n",
      "NumPy function execution time: 0.10024285316467285s\n",
      "My function execution time: 0.045975685119628906s\n",
      "My eigenvalue relative error = 4.295326784533479e-05\n",
      "__________________________\n",
      "Testing for matrix 1000x1000\n",
      "NumPy function execution time: 0.4325089454650879s\n",
      "My function execution time: 0.14356207847595215s\n",
      "My eigenvalue relative error = 3.72948514807927e-07\n",
      "__________________________\n",
      "Testing for matrix 1500x1500\n",
      "NumPy function execution time: 1.24644136428833s\n",
      "My function execution time: 0.3549983501434326s\n",
      "My eigenvalue relative error = 0.0002449823925246699\n",
      "__________________________\n",
      "Testing for matrix 2000x2000\n",
      "NumPy function execution time: 2.8912675380706787s\n",
      "My function execution time: 0.6388144493103027s\n",
      "My eigenvalue relative error = 5.644731776226048e-10\n",
      "__________________________\n",
      "Testing for matrix 2500x2500\n",
      "NumPy function execution time: 5.619881868362427s\n",
      "My function execution time: 1.0172696113586426s\n",
      "My eigenvalue relative error = 2.002811157067906e-10\n",
      "__________________________\n",
      "Testing for matrix 3000x3000\n",
      "NumPy function execution time: 10.279165983200073s\n",
      "My function execution time: 1.5399415493011475s\n",
      "My eigenvalue relative error = 6.687084629756381e-14\n"
     ]
    }
   ],
   "source": [
    "for i in range(1,7):\n",
    "    N = 100*5*i\n",
    "    print(\"__________________________\")\n",
    "    print(f\"Testing for matrix {N}x{N}\")\n",
    "    my_inv_pow_test(N)"
   ]
  },
  {
   "cell_type": "markdown",
   "metadata": {},
   "source": [
    "## Inverse shifted power method with Rayleigh qutioent"
   ]
  },
  {
   "cell_type": "code",
   "execution_count": 109,
   "metadata": {},
   "outputs": [],
   "source": [
    "def rayleigh(xn, x0):\n",
    "    return (x0.T @ xn)[0,0]\n",
    "\n",
    "def rayleigh_inv_pow_method(A, sigma, epsilon=10e-10, max_iter = 500):\n",
    "    N = A.shape[0]\n",
    "    A_prepared = A - sigma*np.identity(N)\n",
    "    lup = spla.lu_factor(A_prepared)\n",
    "    xn = np.ones((N,1))\n",
    "    xn /= np.linalg.norm(xn)\n",
    "    vals = []\n",
    "    errs = []\n",
    "    for _ in range(max_iter):\n",
    "        x0 = xn.copy()\n",
    "        xn = spla.lu_solve(lup, x0)\n",
    "        inved_eig = rayleigh(xn, x0)\n",
    "        eigval = sigma + 1/inved_eig\n",
    "        vals.append(eigval)\n",
    "        xn /= np.linalg.norm(xn)\n",
    "        if inved_eig < 0:\n",
    "            xn *= -1\n",
    "        diff = np.linalg.norm(x0 - xn) \n",
    "        errs.append(diff)\n",
    "        if diff < epsilon:\n",
    "            break\n",
    "    xn /= np.linalg.norm(xn)\n",
    "    return eigval, xn, vals, errs"
   ]
  },
  {
   "cell_type": "code",
   "execution_count": 110,
   "metadata": {},
   "outputs": [],
   "source": [
    "def my_rayleigh_inv_pow_test(size, delta=10000):\n",
    "    b = np.random.randint(100,500,size=(size,size))\n",
    "    b_symm = (b + b.T)/2\n",
    "    \n",
    "    start_time = time.time()\n",
    "    np_result = np.linalg.eig(b_symm)\n",
    "    end_time = time.time()\n",
    "    print(f\"NumPy function execution time: {end_time - start_time}s\")\n",
    "    np_index = np.argmin(np.abs(np_result[0] - delta))\n",
    "    np_value = np_result[0][np_index]\n",
    "    \n",
    "    start_time = time.time()\n",
    "    my_value, _, _, _ = rayleigh_inv_pow_method(b_symm, delta)\n",
    "    end_time = time.time()\n",
    "    print(f\"My function execution time: {end_time - start_time}s\")\n",
    "\n",
    "    value_diff = np_value - my_value\n",
    "    print(f\"My eigenvalue relative error = {np.abs(value_diff / np_value)}\")"
   ]
  },
  {
   "cell_type": "code",
   "execution_count": 111,
   "metadata": {},
   "outputs": [
    {
     "name": "stdout",
     "output_type": "stream",
     "text": [
      "__________________________\n",
      "Testing for matrix 500x500\n",
      "NumPy function execution time: 0.10802841186523438s\n",
      "My function execution time: 0.041185617446899414s\n",
      "My eigenvalue relative error = 2.3972184607274084e-09\n",
      "__________________________\n",
      "Testing for matrix 1000x1000\n",
      "NumPy function execution time: 0.4210331439971924s\n",
      "My function execution time: 0.1582949161529541s\n",
      "My eigenvalue relative error = 3.0432150436471704e-09\n",
      "__________________________\n",
      "Testing for matrix 1500x1500\n",
      "NumPy function execution time: 1.3439431190490723s\n",
      "My function execution time: 0.34092211723327637s\n",
      "My eigenvalue relative error = 1.698458199529304e-14\n",
      "__________________________\n",
      "Testing for matrix 2000x2000\n",
      "NumPy function execution time: 2.9522452354431152s\n",
      "My function execution time: 0.6535544395446777s\n",
      "My eigenvalue relative error = 6.70555390819179e-15\n",
      "__________________________\n",
      "Testing for matrix 2500x2500\n",
      "NumPy function execution time: 5.640456676483154s\n",
      "My function execution time: 0.6345694065093994s\n",
      "My eigenvalue relative error = 1.1098882403498043e-15\n",
      "__________________________\n",
      "Testing for matrix 3000x3000\n",
      "NumPy function execution time: 9.936850547790527s\n",
      "My function execution time: 1.4726271629333496s\n",
      "My eigenvalue relative error = 4.6328030397755884e-14\n"
     ]
    }
   ],
   "source": [
    "for i in range(1,7):\n",
    "    N = 100 * 5*i\n",
    "    print(\"__________________________\")\n",
    "    print(f\"Testing for matrix {N}x{N}\")\n",
    "    my_rayleigh_inv_pow_test(N)"
   ]
  },
  {
   "cell_type": "markdown",
   "metadata": {},
   "source": [
    "## Convergance Test\n",
    "#### Blue - Inverse power method with Rayleigh quotient\n",
    "#### Orange - Inverse power method"
   ]
  },
  {
   "cell_type": "code",
   "execution_count": 112,
   "metadata": {},
   "outputs": [],
   "source": [
    "b = np.random.randint(100, 500, (500,500))\n",
    "b_symm = (b + b.T) / 2\n",
    "\n",
    "delta = 1000000\n",
    "\n",
    "np_eigs = np.linalg.eig(b_symm)\n",
    "np_index = np.argmin(np.abs(np_eigs[0] - delta))\n",
    "example_eig = np_eigs[0][np_index]\n",
    "\n",
    "_, _, vals_inv, errs_inv = inv_pow_method(b_symm, delta)\n",
    "_, _, vals_ray, errs_ray = rayleigh_inv_pow_method(b_symm, delta)"
   ]
  },
  {
   "cell_type": "code",
   "execution_count": 113,
   "metadata": {},
   "outputs": [
    {
     "data": {
      "image/png": "[encoded data removed]",
      "text/plain": [
       "<Figure size 432x288 with 1 Axes>"
      ]
     },
     "metadata": {
      "needs_background": "light"
     },
     "output_type": "display_data"
    }
   ],
   "source": [
    "%matplotlib inline\n",
    "\n",
    "import matplotlib.pyplot as plt\n",
    "\n",
    "plt.plot(errs_ray)\n",
    "plt.plot(errs_inv)\n",
    "plt.show()"
   ]
  },
  {
   "cell_type": "code",
   "execution_count": 114,
   "metadata": {},
   "outputs": [
    {
     "data": {
      "image/png": "[encoded data removed]",
      "text/plain": [
       "<Figure size 432x288 with 1 Axes>"
      ]
     },
     "metadata": {
      "needs_background": "light"
     },
     "output_type": "display_data"
    }
   ],
   "source": [
    "plt.close()\n",
    "plt.plot(vals_ray)\n",
    "plt.plot(vals_inv)\n",
    "plt.show()"
   ]
  }
 ],
 "metadata": {
  "kernelspec": {
   "display_name": "Python 3",
   "language": "python",
   "name": "python3"
  },
  "language_info": {
   "codemirror_mode": {
    "name": "ipython",
    "version": 3
   },
   "file_extension": ".py",
   "mimetype": "text/x-python",
   "name": "python",
   "nbconvert_exporter": "python",
   "pygments_lexer": "ipython3",
   "version": "3.7.4"
  }
 },
 "nbformat": 4,
 "nbformat_minor": 2
}
