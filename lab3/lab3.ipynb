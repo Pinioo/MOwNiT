{
 "cells": [
  {
   "cell_type": "markdown",
   "metadata": {},
   "source": [
    "# Metoda bisekcji"
   ]
  },
  {
   "cell_type": "code",
   "execution_count": 104,
   "metadata": {},
   "outputs": [],
   "source": [
    "import sympy as sp\n",
    "import numpy as np\n",
    "\n",
    "def bisection(f, interval_start, interval_end, precision, max_error):\n",
    "    if(abs(interval_end - interval_start) <= max_error):\n",
    "        return (sp.Float(interval_end + interval_start, precision)/2, 0)\n",
    "    else:\n",
    "        center = sp.N((interval_end + interval_start)/2, precision)\n",
    "        f_center = f(center)\n",
    "        \n",
    "        try:\n",
    "            f_start = f(interval_start)\n",
    "            if f_start == sp.zoo:\n",
    "                raise ZeroDivisionError\n",
    "        except ZeroDivisionError:\n",
    "            f_start = f(interval_start + 1/precision)\n",
    "            \n",
    "        try:\n",
    "            f_end = f(interval_end)\n",
    "            if f_end == sp.zoo:\n",
    "                raise ZeroDivisionError\n",
    "        except ZeroDivisionError:\n",
    "            f_end = f(interval_end - 1/precision)\n",
    "            \n",
    "        if(f_start < f_end):\n",
    "            if(f_center < 0):\n",
    "                (result, iters) = bisection(f, center, interval_end, precision, max_error)\n",
    "            else:\n",
    "                (result, iters) = bisection(f, interval_start, center, precision, max_error)\n",
    "        else:\n",
    "            if(f_center >= 0):\n",
    "                (result, iters) = bisection(f, center, interval_end, precision, max_error)\n",
    "            else:\n",
    "                (result, iters) = bisection(f, interval_start, center, precision, max_error)\n",
    "                \n",
    "        return (result, iters + 1)\n",
    "            "
   ]
  },
  {
   "cell_type": "code",
   "execution_count": 68,
   "metadata": {},
   "outputs": [],
   "source": [
    "def f1(x):\n",
    "    return sp.cos(x)*sp.cosh(x) - 1\n",
    "\n",
    "def df1(x):\n",
    "    return -sp.sin(x)*sp.cosh(x) + sp.cos(x)*sp.sinh(x)\n",
    "\n",
    "def f2(x):\n",
    "    return sp.N(1/x - sp.tan(x))\n",
    "\n",
    "def df2(x):\n",
    "    return sp.N(-1/x**2 - 1/sp.cos(x)**2)\n",
    "\n",
    "def f3(x):\n",
    "    return sp.N(2**(-x) + np.e**x + 2*sp.cos(x) - 6)\n",
    "\n",
    "def df3(x):\n",
    "    return sp.N(-sp.ln(2)*2**(-x) + np.e**x - 2*sp.sin(x))\n",
    "\n",
    "def print_bis(f, left, right, prec, err):\n",
    "    bis = bisection(f, left, right, prec, err)\n",
    "    print(f\"Result: {sp.N(bis[0], prec)} Iterations: {bis[1]}\")"
   ]
  },
  {
   "cell_type": "markdown",
   "metadata": {},
   "source": [
    "#### Dokładność 10^-7"
   ]
  },
  {
   "cell_type": "code",
   "execution_count": 65,
   "metadata": {},
   "outputs": [
    {
     "name": "stdout",
     "output_type": "stream",
     "text": [
      "Result: 4.7300407605893308209 Iterations: 24\n",
      "Result: 0.86033360238212295649 Iterations: 24\n",
      "Result: 1.8293835818767547607 Iterations: 25\n"
     ]
    }
   ],
   "source": [
    "max_err = 10**(-7)\n",
    "prec = 20\n",
    "\n",
    "print_bis(f1, (3/2)*sp.pi, 2*sp.pi, prec, max_err)\n",
    "print_bis(f2, 0, sp.pi/2, prec, max_err)\n",
    "print_bis(f3, 1, 3, prec, max_err)"
   ]
  },
  {
   "cell_type": "markdown",
   "metadata": {},
   "source": [
    "#### Dokładność 10^-15"
   ]
  },
  {
   "cell_type": "code",
   "execution_count": 98,
   "metadata": {},
   "outputs": [
    {
     "name": "stdout",
     "output_type": "stream",
     "text": [
      "Result: 4.73004074486270371527255517906 Iterations: 51\n",
      "Result: 0.860333589019379890919800933783 Iterations: 51\n",
      "Result: 1.82938360193384896845714138180 Iterations: 51\n"
     ]
    }
   ],
   "source": [
    "max_err = 10**(-15)\n",
    "prec = 30\n",
    "\n",
    "print_bis(f1, (3/2)*sp.pi, 2*sp.pi, prec, max_err)\n",
    "print_bis(f2, 0, sp.pi/2, prec, max_err)\n",
    "print_bis(f3, 1, 3, prec, max_err)"
   ]
  },
  {
   "cell_type": "markdown",
   "metadata": {},
   "source": [
    "#### Dokładność 10^-33"
   ]
  },
  {
   "cell_type": "code",
   "execution_count": 67,
   "metadata": {},
   "outputs": [
    {
     "name": "stdout",
     "output_type": "stream",
     "text": [
      "Result: 4.7300407448627040260240481008338848112976053323079 Iterations: 111\n",
      "Result: 0.86033358901937976248389342413766237506860608546096 Iterations: 111\n",
      "Result: 1.8293836019338489649180414825306589721014408553563 Iterations: 111\n"
     ]
    }
   ],
   "source": [
    "max_err = 10**(-33)\n",
    "prec = 50\n",
    "\n",
    "print_bis(f1, (3/2)*sp.pi, 2*sp.pi, prec, max_err)\n",
    "print_bis(f2, 0, sp.pi/2, prec, max_err)\n",
    "print_bis(f3, 1, 3, prec, max_err)"
   ]
  },
  {
   "cell_type": "markdown",
   "metadata": {},
   "source": [
    "# Metoda Newtona"
   ]
  },
  {
   "cell_type": "code",
   "execution_count": 93,
   "metadata": {},
   "outputs": [],
   "source": [
    "def newton(f, df, interval_start, interval_end, precision, max_error, max_iters):        \n",
    "    k = 1\n",
    "    xk_last = sp.N(interval_start + interval_end) / 2\n",
    "    xk = xk_last + max_error + 1\n",
    "    while k < max_iters and abs(xk_last - xk) > max_error:\n",
    "        k += 1\n",
    "        xk_last = xk\n",
    "        xk = sp.N(xk_last - (f(xk_last) / df(xk_last)), precision)\n",
    "                \n",
    "    return (xk, k)"
   ]
  },
  {
   "cell_type": "code",
   "execution_count": 94,
   "metadata": {},
   "outputs": [],
   "source": [
    "def print_newton(f, df, left, right, prec, err, max_iters):\n",
    "    newt = newton(f, df, left, right, prec, err, max_iters)\n",
    "    print(f\"Result: {sp.N(newt[0], prec)} Iterations: {newt[1]}\")"
   ]
  },
  {
   "cell_type": "markdown",
   "metadata": {},
   "source": [
    "#### Dokładność 10^-7"
   ]
  },
  {
   "cell_type": "code",
   "execution_count": 95,
   "metadata": {},
   "outputs": [
    {
     "name": "stdout",
     "output_type": "stream",
     "text": [
      "Result: 4.7300407448627087744 Iterations: 7\n",
      "Result: 3.4256184594817281465 Iterations: 8\n",
      "Result: 1.8293836019338489649 Iterations: 8\n"
     ]
    }
   ],
   "source": [
    "max_err = 10**(-7)\n",
    "prec = 20\n",
    "max_iters = 1000\n",
    "\n",
    "print_newton(f1, df1, (3/2)*sp.pi, 2*sp.pi, prec, max_err, max_iters)\n",
    "print_newton(f2, df2, 0, sp.pi/2, prec, max_err, max_iters)\n",
    "print_newton(f3, df3, 1, 3, prec, max_err, max_iters)"
   ]
  },
  {
   "cell_type": "markdown",
   "metadata": {},
   "source": [
    "#### Dokładność 10^-15"
   ]
  },
  {
   "cell_type": "code",
   "execution_count": 96,
   "metadata": {},
   "outputs": [
    {
     "name": "stdout",
     "output_type": "stream",
     "text": [
      "Result: 4.73004074486270402602404810083 Iterations: 9\n",
      "Result: 3.42561845948172814647771386219 Iterations: 9\n",
      "Result: 1.82938360193384896491804148253 Iterations: 9\n"
     ]
    }
   ],
   "source": [
    "max_err = 10**(-15)\n",
    "prec = 30\n",
    "max_iters = 1000\n",
    "\n",
    "print_newton(f1, df1, (3/2)*sp.pi, 2*sp.pi, prec, max_err, max_iters)\n",
    "print_newton(f2, df2, 0, sp.pi/2, prec, max_err, max_iters)\n",
    "print_newton(f3, df3, 1, 3, prec, max_err, max_iters)"
   ]
  },
  {
   "cell_type": "markdown",
   "metadata": {},
   "source": [
    "#### Dokładność 10^-33"
   ]
  },
  {
   "cell_type": "code",
   "execution_count": 115,
   "metadata": {},
   "outputs": [
    {
     "name": "stdout",
     "output_type": "stream",
     "text": [
      "Result: 4.7300407448627040260240481008338848198983418007068 Iterations: 10\n",
      "Result: 3.4256184594817281464777138621854561776964092393975 Iterations: 10\n",
      "Result: 1.8293836019338489649180414825306591929539414759645 Iterations: 10\n"
     ]
    }
   ],
   "source": [
    "max_err = 10**(-33)\n",
    "prec = 50\n",
    "max_iters = 1000\n",
    "\n",
    "print_newton(f1, df1, (3/2)*sp.pi, 2*sp.pi, prec, max_err, max_iters)\n",
    "print_newton(f2, df2, 0, sp.pi/2, prec, max_err, max_iters)\n",
    "print_newton(f3, df3, 1, 3, prec, max_err, max_iters)"
   ]
  },
  {
   "cell_type": "markdown",
   "metadata": {},
   "source": [
    "## Metoda Newtona, a metoda bisekcji"
   ]
  },
  {
   "cell_type": "markdown",
   "metadata": {},
   "source": [
    "Dla metody Newtona widzimy znaczną poprawę szybkości zbiegania obliczanych wartości do dokładnego miejsca zerowego funkcji względem metody bisekcji. Wynika to z faktu, iż bisekcja przy każdej iteracji poprawia swoją dokładność 2 razy, gdy metoda Newtona przy każdej iteracji średnio daje dokładność podwojoną o ilość miejsc znaczących w poprzedniej iteracji (co pokazuje przykład powyżej).  "
   ]
  },
  {
   "cell_type": "markdown",
   "metadata": {},
   "source": [
    "# Metoda siecznych"
   ]
  },
  {
   "cell_type": "code",
   "execution_count": 116,
   "metadata": {},
   "outputs": [],
   "source": [
    "def euler(f, interval_start, interval_end, precision, max_error, max_iters):\n",
    "    try:\n",
    "        x0 = f(interval_start)\n",
    "        if x0 == sp.zoo:\n",
    "            raise ZeroDivisionError\n",
    "        x0 = interval_start\n",
    "    except ZeroDivisionError:\n",
    "        x0 = sp.N(interval_start + 1/precision, precision)\n",
    "            \n",
    "    try:\n",
    "        x1 = f(interval_end)\n",
    "        if x1 == sp.zoo:\n",
    "            raise ZeroDivisionError\n",
    "        x1 = interval_end\n",
    "    except ZeroDivisionError:\n",
    "        x1 = sp.N(interval_end - 1/precision, precision)\n",
    "        \n",
    "    k = 0\n",
    "    while k < max_iters and abs(x1 - x0) > max_error:\n",
    "        k += 1\n",
    "        xk = sp.N((f(x1)*x0 - f(x0)*x1)/(f(x1) - f(x0)),precision)\n",
    "        x0 = x1\n",
    "        x1 = xk\n",
    "    \n",
    "    return (xk, k)"
   ]
  },
  {
   "cell_type": "code",
   "execution_count": 117,
   "metadata": {},
   "outputs": [],
   "source": [
    "def print_eul(f, left, right, prec, err, max_iters):\n",
    "    eul = euler(f, left, right, prec, err, max_iters)\n",
    "    print(f\"Result: {sp.N(eul[0], prec)} Iterations: {eul[1]}\")"
   ]
  },
  {
   "cell_type": "markdown",
   "metadata": {},
   "source": [
    "#### Dokładność 10^-7"
   ]
  },
  {
   "cell_type": "code",
   "execution_count": 118,
   "metadata": {},
   "outputs": [
    {
     "name": "stdout",
     "output_type": "stream",
     "text": [
      "Result: 4.7300407448627040715 Iterations: 6\n",
      "Result: 0.86033358901938161083 Iterations: 6\n",
      "Result: 1.8293836019338489641 Iterations: 10\n"
     ]
    }
   ],
   "source": [
    "max_err = 10**(-7)\n",
    "prec = 20\n",
    "max_iters = 1000\n",
    "\n",
    "print_eul(f1, (3/2)*sp.pi, 2*sp.pi, prec, max_err, max_iters)\n",
    "print_eul(f2, 0, sp.pi/2, prec, max_err, max_iters)\n",
    "print_eul(f3, 1, 3, prec, max_err, max_iters)"
   ]
  },
  {
   "cell_type": "markdown",
   "metadata": {},
   "source": [
    "#### Dokładność 10^-15"
   ]
  },
  {
   "cell_type": "code",
   "execution_count": 119,
   "metadata": {},
   "outputs": [
    {
     "name": "stdout",
     "output_type": "stream",
     "text": [
      "Result: 4.73004074486270402602404809795 Iterations: 7\n",
      "Result: 0.860333589019379744124928843829 Iterations: 8\n",
      "Result: 1.82938360193384905526620895249 Iterations: 11\n"
     ]
    }
   ],
   "source": [
    "max_err = 10**(-15)\n",
    "prec = 30\n",
    "max_iters = 1000\n",
    "\n",
    "print_eul(f1, (3/2)*sp.pi, 2*sp.pi, prec, max_err, max_iters)\n",
    "print_eul(f2, 0, sp.pi/2, prec, max_err, max_iters)\n",
    "print_eul(f3, 1, 3, prec, max_err, max_iters)"
   ]
  },
  {
   "cell_type": "markdown",
   "metadata": {},
   "source": [
    "#### Dokładność 10^-33"
   ]
  },
  {
   "cell_type": "code",
   "execution_count": 122,
   "metadata": {},
   "outputs": [
    {
     "name": "stdout",
     "output_type": "stream",
     "text": [
      "Result: 4.7300407448627040260240481008338848198983418007068 Iterations: 9\n",
      "Result: 0.86033358901937976248389342413766233341188436323765 Iterations: 44\n",
      "Result: 1.8293836019338489649180414825306583189436638867082 Iterations: 116\n"
     ]
    }
   ],
   "source": [
    "max_err = 10**(-33)\n",
    "prec = 50\n",
    "max_iters = 1000\n",
    "\n",
    "print_eul(f1, (3/2)*sp.pi, 2*sp.pi, prec, max_err, max_iters)\n",
    "print_eul(f2, 0, sp.pi/2, prec, max_err, max_iters)\n",
    "print_eul(f3, 1, 3, prec, max_err, max_iters)"
   ]
  },
  {
   "cell_type": "markdown",
   "metadata": {},
   "source": [
    "## Metoda siecznych, a metody bisekcji i Newtona"
   ]
  },
  {
   "cell_type": "markdown",
   "metadata": {},
   "source": [
    "Widzimy, że metoda siecznych działa szybciej niż metoda bisekcji, jednak ustępuje metodzie Newtona, szczególnie dla 3. funkcji. Spowodowane może być to faktem, iż przybliżanie stycznymi z obu stron może powodować oddalanie się od prawdziwej wartości, szczególnie gdy funkcja jest tam mocno wygięta (nie jest podobna do funkcji liniowej). Widać, że szybkość zbiegania nie jest już ściśle powiązana z przyjętym dopuszczalnym błędem."
   ]
  },
  {
   "cell_type": "code",
   "execution_count": null,
   "metadata": {},
   "outputs": [],
   "source": []
  }
 ],
 "metadata": {
  "kernelspec": {
   "display_name": "Python 3",
   "language": "python",
   "name": "python3"
  },
  "language_info": {
   "codemirror_mode": {
    "name": "ipython",
    "version": 3
   },
   "file_extension": ".py",
   "mimetype": "text/x-python",
   "name": "python",
   "nbconvert_exporter": "python",
   "pygments_lexer": "ipython3",
   "version": "3.7.4"
  }
 },
 "nbformat": 4,
 "nbformat_minor": 2
}
