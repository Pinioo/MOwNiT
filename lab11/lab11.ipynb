{
 "cells": [
  {
   "cell_type": "markdown",
   "metadata": {},
   "source": [
    "# MOwNiT - laboratorium 11\n",
    "### Faktoryzacja QR"
   ]
  },
  {
   "cell_type": "code",
   "execution_count": 222,
   "metadata": {},
   "outputs": [],
   "source": [
    "import numpy as np\n",
    "import time\n",
    "import matplotlib.pyplot as plt"
   ]
  },
  {
   "cell_type": "code",
   "execution_count": 223,
   "metadata": {},
   "outputs": [],
   "source": [
    "def qr(A):\n",
    "    n = A.shape[0]\n",
    "    Q = np.empty((n,n))\n",
    "    R = np.zeros((n,n))\n",
    "    \n",
    "    u_k = A[:,0:1] / np.linalg.norm(A[:,0:1], axis=0)\n",
    "    Q[:,0:1] = u_k\n",
    "    R[0,0] = u_k.T @ A[:,0:1]\n",
    "    for k in range(1,n):\n",
    "        a_k = A[:,k:k+1]\n",
    "        u_prev = Q[:,:k]\n",
    "        projections = u_prev.T @ a_k\n",
    "        R[:k,k:k+1] = projections\n",
    "        u_k = a_k - np.sum(u_prev * projections.T, axis=1, keepdims=True)\n",
    "        u_k = u_k / np.linalg.norm(u_k, axis=0)\n",
    "        \n",
    "        Q[:,k:k+1] = u_k\n",
    "        R[k,k] = u_k.T @ a_k\n",
    "    \n",
    "    return Q, R"
   ]
  },
  {
   "cell_type": "code",
   "execution_count": 224,
   "metadata": {},
   "outputs": [],
   "source": [
    "def qr_test(A):\n",
    "    print(\"---\")\n",
    "    print(f\"Matrix of size {A.shape}\")\n",
    "    \n",
    "    start_time = time.time()\n",
    "    my_q, my_r = qr(A)\n",
    "    end_time = time.time()\n",
    "    print(f\"My implementation time: {end_time - start_time}s\")\n",
    "    \n",
    "    start_time = time.time()\n",
    "    q, r = np.linalg.qr(A)\n",
    "    end_time = time.time()\n",
    "    print(f\"NumPy implementation time: {end_time - start_time}s\")\n",
    "    \n",
    "    q_errs = np.abs(np.abs(my_q) - np.abs(q))\n",
    "    q_ind = np.argmax(q_errs)\n",
    "    q_relative_err = np.abs(q_errs.reshape(-1)[q_ind] / q.reshape(-1)[q_ind])\n",
    "    print(f\"Max Q relative error = {q_relative_err}\")"
   ]
  },
  {
   "cell_type": "code",
   "execution_count": 225,
   "metadata": {},
   "outputs": [],
   "source": [
    "qr_t1 = np.random.random((50,50))\n",
    "qr_t2 = np.random.random((100,100))\n",
    "qr_t3 = np.random.random((500,500))\n",
    "qr_t4 = np.random.random((1000,1000))\n",
    "qr_t5 = np.random.random((2000,2000))\n",
    "\n",
    "test_suite = [qr_t1, qr_t2, qr_t3, qr_t4, qr_t5]"
   ]
  },
  {
   "cell_type": "code",
   "execution_count": 226,
   "metadata": {},
   "outputs": [
    {
     "name": "stdout",
     "output_type": "stream",
     "text": [
      "---\n",
      "Matrix of size (50, 50)\n",
      "My implementation time: 0.015619754791259766s\n",
      "NumPy implementation time: 0.0019421577453613281s\n",
      "Max Q relative error = 1.7780862295655456e-12\n",
      "---\n",
      "Matrix of size (100, 100)\n",
      "My implementation time: 0.01654958724975586s\n",
      "NumPy implementation time: 0.0009510517120361328s\n",
      "Max Q relative error = 4.117333394442843e-12\n",
      "---\n",
      "Matrix of size (500, 500)\n",
      "My implementation time: 0.10832524299621582s\n",
      "NumPy implementation time: 0.005891561508178711s\n",
      "Max Q relative error = 3.921220059393819e-08\n",
      "---\n",
      "Matrix of size (1000, 1000)\n",
      "My implementation time: 0.835212230682373s\n",
      "NumPy implementation time: 0.036103010177612305s\n",
      "Max Q relative error = 1.2447256094153887e-08\n",
      "---\n",
      "Matrix of size (2000, 2000)\n",
      "My implementation time: 7.881927251815796s\n",
      "NumPy implementation time: 0.19865846633911133s\n",
      "Max Q relative error = 8.217184169374337e-09\n"
     ]
    }
   ],
   "source": [
    "for A in test_suite:\n",
    "    qr_test(A)"
   ]
  },
  {
   "cell_type": "code",
   "execution_count": 234,
   "metadata": {},
   "outputs": [],
   "source": [
    "def rand_matrix_with_cond(size, cond):\n",
    "    u, _ = np.linalg.qr(np.random.random((size, size)))\n",
    "    v_t, _ = np.linalg.qr(np.random.random((size, size)))\n",
    "    s = np.linspace(1, cond, size)\n",
    "    return u @ np.diag(s) @ v_t\n",
    "\n",
    "def check_with_identity(A):\n",
    "    q, _ = qr(A)\n",
    "    return np.linalg.cond(A), np.linalg.norm(np.identity(q.shape[0]) - q.T @ q)"
   ]
  },
  {
   "cell_type": "code",
   "execution_count": 250,
   "metadata": {},
   "outputs": [],
   "source": [
    "id_test_suite = [rand_matrix_with_cond(8, 2**i) for i in range(1,51)]\n",
    "\n",
    "x_i = []\n",
    "y_i = []\n",
    "\n",
    "for A in id_test_suite:\n",
    "    cond, similarity = check_with_identity(A)\n",
    "    x_i.append(cond)\n",
    "    y_i.append(similarity)"
   ]
  },
  {
   "cell_type": "code",
   "execution_count": 251,
   "metadata": {},
   "outputs": [
    {
     "data": {
      "image/png": "[encoded data removed]",
      "text/plain": [
       "<Figure size 432x288 with 1 Axes>"
      ]
     },
     "metadata": {
      "needs_background": "light"
     },
     "output_type": "display_data"
    }
   ],
   "source": [
    "plt.xscale(\"log\")\n",
    "plt.plot(x_i, y_i)\n",
    "plt.draw()"
   ]
  },
  {
   "cell_type": "markdown",
   "metadata": {},
   "source": [
    "## def qr_solve(A, b):\n",
    "    q, r = np.linalg.qr(A)\n",
    "    return np.linalg.solve(r, q.T @ b)"
   ]
  },
  {
   "cell_type": "code",
   "execution_count": 211,
   "metadata": {},
   "outputs": [
    {
     "name": "stdout",
     "output_type": "stream",
     "text": [
      "[[ 1 -5 25]\n",
      " [ 1 -4 16]\n",
      " [ 1 -3  9]\n",
      " [ 1 -2  4]\n",
      " [ 1 -1  1]\n",
      " [ 1  0  0]\n",
      " [ 1  1  1]\n",
      " [ 1  2  4]\n",
      " [ 1  3  9]\n",
      " [ 1  4 16]\n",
      " [ 1  5 25]]\n"
     ]
    }
   ],
   "source": [
    "x = np.array([-5,-4,-3,-2,-1,0,1,2,3,4,5]).reshape((11,1))\n",
    "y = np.array([2,7,9,12,13,14,14,13,10,8,4]).reshape((11,1))\n",
    "\n",
    "A = np.hstack([x**0, x**1, x**2])\n",
    "print(A)"
   ]
  },
  {
   "cell_type": "code",
   "execution_count": 212,
   "metadata": {},
   "outputs": [
    {
     "name": "stdout",
     "output_type": "stream",
     "text": [
      "[[13.97202797]\n",
      " [ 0.18181818]\n",
      " [-0.43356643]]\n"
     ]
    }
   ],
   "source": [
    "print(qr_solve(A, y))"
   ]
  },
  {
   "cell_type": "code",
   "execution_count": 213,
   "metadata": {},
   "outputs": [],
   "source": [
    "c, b, a = qr_solve(A, y)"
   ]
  },
  {
   "cell_type": "code",
   "execution_count": 214,
   "metadata": {},
   "outputs": [],
   "source": []
  },
  {
   "cell_type": "code",
   "execution_count": 215,
   "metadata": {},
   "outputs": [],
   "source": [
    "xs = np.linspace(-8,8,1000)\n",
    "ys = []\n",
    "for x_sample in xs:\n",
    "    ys.append(a*x_sample**2 + b*x_sample + c)"
   ]
  },
  {
   "cell_type": "code",
   "execution_count": 221,
   "metadata": {},
   "outputs": [
    {
     "data": {
      "image/png": "[encoded data removed]",
      "text/plain": [
       "<Figure size 432x288 with 1 Axes>"
      ]
     },
     "metadata": {
      "needs_background": "light"
     },
     "output_type": "display_data"
    }
   ],
   "source": [
    "plt.plot(xs, ys)\n",
    "plt.plot(x, y, \"bx\")\n",
    "plt.draw()"
   ]
  },
  {
   "cell_type": "code",
   "execution_count": null,
   "metadata": {},
   "outputs": [],
   "source": []
  }
 ],
 "metadata": {
  "kernelspec": {
   "display_name": "Python 3",
   "language": "python",
   "name": "python3"
  },
  "language_info": {
   "codemirror_mode": {
    "name": "ipython",
    "version": 3
   },
   "file_extension": ".py",
   "mimetype": "text/x-python",
   "name": "python",
   "nbconvert_exporter": "python",
   "pygments_lexer": "ipython3",
   "version": "3.7.4"
  }
 },
 "nbformat": 4,
 "nbformat_minor": 2
}
