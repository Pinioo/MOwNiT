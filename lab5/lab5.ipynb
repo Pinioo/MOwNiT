{
 "cells": [
  {
   "cell_type": "code",
   "execution_count": 1,
   "metadata": {},
   "outputs": [
    {
     "name": "stdout",
     "output_type": "stream",
     "text": [
      "Pixel value comparassion (difference between compressed and original)\n",
      "Value k stands for number of singular values\n",
      "________________________________________\n",
      "k = 512\n",
      "Mean: 2.689778636638402e-13\n",
      "Max: 5.030642569181509e-12\n",
      "________________________________________\n",
      "k = 256\n",
      "Mean: 0.808409072332975\n",
      "Max: 10.749116467931856\n",
      "________________________________________\n",
      "k = 128\n",
      "Mean: 2.6266642421585122\n",
      "Max: 54.04903015792439\n",
      "________________________________________\n",
      "k = 64\n",
      "Mean: 5.246336877481877\n",
      "Max: 153.61800941299953\n",
      "________________________________________\n",
      "k = 32\n",
      "Mean: 8.260691742243036\n",
      "Max: 163.85298941513565\n",
      "________________________________________\n",
      "k = 16\n",
      "Mean: 12.113957685306609\n",
      "Max: 181.30147195368514\n"
     ]
    }
   ],
   "source": [
    "from PIL import Image\n",
    "import numpy as np\n",
    "\n",
    "with Image.open(\"lena_in_work.bmp\") as im:\n",
    "    pixels = np.array(im)\n",
    "    (U, Sigma, V_T) = np.linalg.svd(pixels)\n",
    "    print(\"Pixel value comparassion (difference between compressed and original)\")\n",
    "    print(\"Value k stands for number of singular values\")\n",
    "    for i in range(9, 3, -1):\n",
    "        k = 2**i\n",
    "        pixels_compressed = U[:, :k] @ np.diag(Sigma[:k]) @ V_T[:k, :]\n",
    "        print(\"________________________________________\")\n",
    "        print(f\"k = {k}\")\n",
    "        print(f\"Mean: {np.mean(np.abs(pixels - pixels_compressed))}\")\n",
    "        print(f\"Max: {np.max(np.abs(pixels - pixels_compressed))}\")\n",
    "        \n",
    "        compressed = np.around(pixels_compressed).astype(np.uint8)\n",
    "        Image.fromarray(compressed, 'L').save(f\"compressed_lena_{k}.bmp\")"
   ]
  },
  {
   "cell_type": "code",
   "execution_count": null,
   "metadata": {},
   "outputs": [],
   "source": []
  }
 ],
 "metadata": {
  "kernelspec": {
   "display_name": "Python 3",
   "language": "python",
   "name": "python3"
  },
  "language_info": {
   "codemirror_mode": {
    "name": "ipython",
    "version": 3
   },
   "file_extension": ".py",
   "mimetype": "text/x-python",
   "name": "python",
   "nbconvert_exporter": "python",
   "pygments_lexer": "ipython3",
   "version": "3.7.4"
  }
 },
 "nbformat": 4,
 "nbformat_minor": 2
}
