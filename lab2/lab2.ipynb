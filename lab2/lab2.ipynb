{
 "cells": [
  {
   "cell_type": "markdown",
   "metadata": {},
   "source": [
    "# Metoda Gaussa-Jordana"
   ]
  },
  {
   "cell_type": "code",
   "execution_count": 2,
   "metadata": {},
   "outputs": [],
   "source": [
    "import numpy as np\n",
    "import scipy as sp\n",
    "import scipy.linalg as la\n",
    "import time\n",
    "\n",
    "def print_system(A, B):\n",
    "    for i in range(len(B)):\n",
    "        print(f\"{A[i]}\\t[{B[i]}]\")\n",
    "\n",
    "def gauss_jordan(A, B):\n",
    "    n = len(B)\n",
    "    npA = np.array(A)\n",
    "    npB = np.array(B)\n",
    "    \n",
    "    max_value = np.max(A)\n",
    "    for i in range(n):\n",
    "        for j in range(n):\n",
    "            npA[i][j] /= max_value\n",
    "        npB[i] /= max_value\n",
    "    \n",
    "    for start_ind in range(n):\n",
    "        max_row = max(range(start_ind, n), key=lambda r: abs(npA[r][start_ind]))\n",
    "        npA[[max_row, start_ind]] = npA[[start_ind, max_row]]\n",
    "        npB[[max_row, start_ind]] = npB[[start_ind, max_row]]\n",
    "        for col in range(start_ind + 1, n):\n",
    "            npA[start_ind][col] /= npA[start_ind][start_ind]\n",
    "        npB[start_ind] /= npA[start_ind][start_ind]\n",
    "        npA[start_ind][start_ind] = 1.0\n",
    "        for row in range(n):\n",
    "            if row != start_ind:\n",
    "                for col in range(start_ind + 1, n):\n",
    "                    npA[row][col] -= npA[start_ind][col] * npA[row][start_ind]\n",
    "                npB[row] -= npB[start_ind] * npA[row][start_ind]\n",
    "                npA[row][start_ind] = 0.0\n",
    "    return (npA, npB)"
   ]
  },
  {
   "cell_type": "code",
   "execution_count": 4,
   "metadata": {},
   "outputs": [
    {
     "name": "stdout",
     "output_type": "stream",
     "text": [
      "Gauss-Jordan: 94.77914547920227\n",
      "Numpy: 0.048226356506347656\n",
      "________________________________\n",
      "Różnica wyników pomiędzy zaimplementowanym Gaussem-Jordanem, a numpy.linalg.solve\n",
      "2.1498894649746205e-10\n"
     ]
    }
   ],
   "source": [
    "A = np.random.uniform(10, 500, size=(600,600))\n",
    "B = np.random.uniform(10, 500, size=(600,1))\n",
    "\n",
    "start_time = time.time()\n",
    "(gjA, gjB) = gauss_jordan(A,B)\n",
    "end_time = time.time()\n",
    "\n",
    "print(f\"Gauss-Jordan: {end_time - start_time}\")\n",
    "\n",
    "start_time = time.time()\n",
    "np_solved = np.linalg.solve(np.array(A), np.array(B))\n",
    "end_time = time.time()\n",
    "\n",
    "print(f\"Numpy: {end_time - start_time}\")\n",
    "\n",
    "print(\"________________________________\")\n",
    "print(\"Różnica wyników pomiędzy zaimplementowanym Gaussem-Jordanem, a numpy.linalg.solve\")\n",
    "print(np.max((np_solved - gjB) / np_solved))"
   ]
  },
  {
   "cell_type": "code",
   "execution_count": 3,
   "metadata": {},
   "outputs": [],
   "source": [
    "def LU(A_matrix):\n",
    "    A = A_matrix.copy()\n",
    "    n = len(A)\n",
    "    \n",
    "    # Pivoting matrix\n",
    "    \n",
    "    L = np.identity(n)\n",
    "    U = np.zeros((n,n))\n",
    "    \n",
    "    P = np.identity(n)\n",
    "    \n",
    "    for j in range(n):\n",
    "        max_row = max(range(j, n), key=lambda i: abs(A[i][j]))\n",
    "        P[[max_row, j]] = P[[j, max_row]]\n",
    "        \n",
    "    PA = P @ A\n",
    "    \n",
    "    for j in range(n):\n",
    "        for i in range(j+1):\n",
    "            U[i][j] = PA[i][j] - sum(U[k][j] * L[i][k] for k in range(i))\n",
    "\n",
    "        for i in range(j+1, n):\n",
    "            L[i][j] = (PA[i][j] - sum(U[k][j] * L[i][k] for k in range(j))) / U[j][j]\n",
    "\n",
    "    return (P, L, U)"
   ]
  },
  {
   "cell_type": "code",
   "execution_count": 8,
   "metadata": {
    "scrolled": false
   },
   "outputs": [
    {
     "name": "stdout",
     "output_type": "stream",
     "text": [
      "My LU:\n",
      "Time: 5.8890955448150635s\n",
      "L:\n",
      "[[ 1.          0.          0.         ...  0.          0.\n",
      "   0.        ]\n",
      " [ 0.91430613  1.          0.         ...  0.          0.\n",
      "   0.        ]\n",
      " [ 0.87656814  0.68522743  1.         ...  0.          0.\n",
      "   0.        ]\n",
      " ...\n",
      " [ 0.9138632  -0.26975329  1.8975891  ...  1.          0.\n",
      "   0.        ]\n",
      " [ 0.16333468  3.87136563 -7.11308605 ... -2.74821968  1.\n",
      "   0.        ]\n",
      " [ 0.68599804 -0.60623002  3.07383237 ... -3.25782282  1.99326362\n",
      "   1.        ]]\n",
      "U:\n",
      "[[  39934.04087294   36171.4919645     2454.71552004 ...   14491.12117875\n",
      "    19368.55347805    5702.05056523]\n",
      " [      0.            6744.6864895    31694.19367517 ...   -3058.15741674\n",
      "    -5177.19079527   10804.67997024]\n",
      " [      0.               0.           16009.98111353 ...   16409.46889529\n",
      "     3757.60595306   -5523.29636038]\n",
      " ...\n",
      " [      0.               0.               0.         ...  -43629.67282076\n",
      "   -54977.58200206  -85033.99431376]\n",
      " [      0.               0.               0.         ...       0.\n",
      "  -318221.40056145 -366163.20448233]\n",
      " [      0.               0.               0.         ...       0.\n",
      "        0.           78566.6883899 ]]\n",
      "\n",
      "max(PA - LU):\n",
      "3.21302650263533e-07\n",
      "SciPy LU:\n",
      "Time: 0.0007963180541992188s\n"
     ]
    }
   ],
   "source": [
    "A = np.random.uniform(100, 40000, size=(300,300))\n",
    "\n",
    "start_time = time.time()\n",
    "(P, Lower, Upper) = LU(A)\n",
    "end_time = time.time()\n",
    "\n",
    "print(\"My LU:\")\n",
    "print(f\"Time: {end_time - start_time}s\")     \n",
    "print(f\"L:\\n{Lower}\")\n",
    "print(f\"U:\\n{Upper}\")\n",
    "\n",
    "print()\n",
    "print(\"max(PA - LU):\")\n",
    "print(np.amax(np.abs(P @ A - Lower @ Upper)))\n",
    "\n",
    "start_time = time.time()\n",
    "(Pi, Lo, Up) = sp.linalg.lu(A)\n",
    "end_time = time.time()\n",
    "\n",
    "print(\"SciPy LU:\")\n",
    "print(f\"Time: {end_time - start_time}s\")"
   ]
  },
  {
   "cell_type": "code",
   "execution_count": null,
   "metadata": {},
   "outputs": [],
   "source": []
  }
 ],
 "metadata": {
  "kernelspec": {
   "display_name": "Python 3",
   "language": "python",
   "name": "python3"
  },
  "language_info": {
   "codemirror_mode": {
    "name": "ipython",
    "version": 3
   },
   "file_extension": ".py",
   "mimetype": "text/x-python",
   "name": "python",
   "nbconvert_exporter": "python",
   "pygments_lexer": "ipython3",
   "version": "3.7.4"
  }
 },
 "nbformat": 4,
 "nbformat_minor": 2
}
