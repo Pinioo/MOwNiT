{
 "cells": [
  {
   "cell_type": "markdown",
   "metadata": {},
   "source": [
    "# MOwNiT - lab 8\n",
    "## PageRank"
   ]
  },
  {
   "cell_type": "markdown",
   "metadata": {},
   "source": [
    "### Essential imports"
   ]
  },
  {
   "cell_type": "code",
   "execution_count": null,
   "metadata": {},
   "outputs": [],
   "source": [
    "import networkx as nx\n",
    "import numpy as np\n",
    "import matplotlib.pyplot as plt\n",
    "from scipy import sparse\n",
    "import snap\n",
    "import heapq\n",
    "import os"
   ]
  },
  {
   "cell_type": "markdown",
   "metadata": {},
   "source": [
    "### Loading SNAP PNGraph from file and converting to networkx.DiGraph"
   ]
  },
  {
   "cell_type": "code",
   "execution_count": null,
   "metadata": {},
   "outputs": [],
   "source": [
    "def load_snap(name):\n",
    "    if not os.path.isfile(name):\n",
    "        raise FileNotFoundError\n",
    "    return snap.LoadEdgeList(snap.PNGraph, name, 0, 1)\n",
    "\n",
    "def nx_to_snap(G_nx):\n",
    "    G_snap = snap.TNGraph.New()\n",
    "    for node in G_nx.nodes():\n",
    "        G_snap.AddNode(node)\n",
    "    for (u,v) in G_nx.edges():\n",
    "        G_snap.AddEdge(u,v)\n",
    "    return G_snap"
   ]
  },
  {
   "cell_type": "markdown",
   "metadata": {},
   "source": [
    "### Drawing utility\n",
    "#### Drawing tool for ranked graph *draw_ranks*\n",
    "Parameters:\n",
    "- G: *networkx.DiGraph*\n",
    "- ranks: *np.ndarray* calculated ranks of shape (N,1)\n",
    "- layout: *networkx.DiGraph -> dict* networkx layout function taking graph as an only argument"
   ]
  },
  {
   "cell_type": "code",
   "execution_count": null,
   "metadata": {},
   "outputs": [],
   "source": [
    "%matplotlib notebook\n",
    "\n",
    "def draw_ranks(G, ranks, layout=nx.random_layout):\n",
    "    plt.figure(figsize=(8,6))\n",
    "    pos = layout(G)\n",
    "    nx.draw_networkx(G, pos = pos, labels={i: f'{ranks[i,0]:.4f}'[1:] for i in G.nodes()}, node_size=1200)\n",
    "    plt.show()"
   ]
  },
  {
   "cell_type": "markdown",
   "metadata": {},
   "source": [
    "### Power iteration algorithm to find dominant eigenvector with Rayleigh quotient"
   ]
  },
  {
   "cell_type": "code",
   "execution_count": null,
   "metadata": {},
   "outputs": [],
   "source": [
    "def rayleigh(A, v):\n",
    "    Av = A @ v\n",
    "    return v.T @ Av\n",
    "\n",
    "def power_iteration(A, eps = 10e-20, max_iters = 100):\n",
    "    N = A.shape[0]\n",
    "\n",
    "    xn = np.ones((N, 1)) / np.sqrt(N)\n",
    "    eigenvalue_new = rayleigh(A, xn)\n",
    "    i = 0\n",
    "    while True:\n",
    "        i += 1\n",
    "        x0 = xn\n",
    "        eigenvalue = eigenvalue_new\n",
    "        xn = A @ x0\n",
    "        xn /= np.linalg.norm(xn)\n",
    "        eigenvalue_new = rayleigh(A, xn)\n",
    "        if np.abs(eigenvalue - eigenvalue_new) < eps or i >= max_iters:\n",
    "            break\n",
    "    return eigenvalue_new, xn / np.sum(np.abs(xn))"
   ]
  },
  {
   "cell_type": "markdown",
   "metadata": {},
   "source": [
    "## Simple ranking algorithm\n",
    "Parameters:\n",
    "- G: *networkx.DiGraph*\n",
    "- eps: *float* argument $\\varepsilon$ for power_iteration\n",
    "\n",
    "Returns:\n",
    "- ranks: *numpy.ndarray* with calculated ranks of shape (N,1) "
   ]
  },
  {
   "cell_type": "code",
   "execution_count": null,
   "metadata": {},
   "outputs": [],
   "source": [
    "def simple_ranker(G):\n",
    "    A = nx.adjacency_matrix(G).astype(np.float64)\n",
    "    for node in G.nodes():\n",
    "        out_deg = G.out_degree(node)\n",
    "        if out_deg != 0:\n",
    "            A[node,:] /= out_deg\n",
    "    return power_iteration(A.T)[1]"
   ]
  },
  {
   "cell_type": "markdown",
   "metadata": {},
   "source": [
    "## G_cycle\n",
    "#### Simple directed cycle\n",
    "\n",
    "## G_cycle_with_main\n",
    "#### Directed cycle with one main sink\n",
    "\n",
    "## G_heap_with_main\n",
    "#### Structure of website with main site and subsites linking to main site"
   ]
  },
  {
   "cell_type": "code",
   "execution_count": null,
   "metadata": {},
   "outputs": [],
   "source": [
    "#########\n",
    "size = 30\n",
    "#########\n",
    "\n",
    "##################################\n",
    "\n",
    "G_cycle = nx.DiGraph()\n",
    "for i in range(size):\n",
    "    G_cycle.add_node(i)\n",
    "\n",
    "for i in range(size):\n",
    "    G_cycle.add_edge(i, (i+1) % size)\n",
    "\n",
    "###################################\n",
    "\n",
    "G_cycle_with_main = nx.DiGraph()\n",
    "for i in range(size):\n",
    "    G_cycle_with_main.add_node(i)\n",
    "\n",
    "for i in range(size):\n",
    "    G_cycle_with_main.add_edge(i, (i+1) % size)\n",
    "\n",
    "for i in range(1, size-1):\n",
    "    G_cycle_with_main.add_edge(i, 0)\n",
    "\n",
    "G_cycle_with_main.add_edge(2, 7)\n",
    "G_cycle_with_main.add_edge(0, 7)\n",
    "\n",
    "###################################\n",
    "\n",
    "levels = 4\n",
    "\n",
    "G_heap_with_main = nx.DiGraph()\n",
    "G_heap_with_main.add_node(0)\n",
    "for node_parent in range(2**levels - 1):\n",
    "    for node_child in [node_parent*2 + 1, node_parent*2 + 2]:\n",
    "        G_heap_with_main.add_node(node_child)\n",
    "        G_heap_with_main.add_edge(node_parent, node_child)\n",
    "        G_heap_with_main.add_edge(node_child, 0)"
   ]
  },
  {
   "cell_type": "code",
   "execution_count": null,
   "metadata": {
    "scrolled": false
   },
   "outputs": [],
   "source": [
    "%matplotlib notebook\n",
    "\n",
    "\n",
    "print(\"Simple cycle\")\n",
    "r_cycle = simple_ranker(G_cycle)\n",
    "draw_ranks(G_cycle, r_cycle, layout=nx.circular_layout)\n",
    "\n",
    "print(\"Cycle with main sink\")\n",
    "r_cycle_main = simple_ranker(G_cycle_with_main)\n",
    "draw_ranks(G_cycle_with_main, r_cycle_main, layout=nx.circular_layout)\n",
    "\n",
    "print(\"\\\"Heap\\\" with back edges\")\n",
    "r_heap = simple_ranker(G_heap_with_main)\n",
    "draw_ranks(G_heap_with_main, r_heap, layout=lambda G: nx.drawing.nx_agraph.graphviz_layout(G, prog='dot'))"
   ]
  },
  {
   "cell_type": "markdown",
   "metadata": {},
   "source": [
    "## PageRank\n",
    "Parameters:\n",
    "- G: *snap.TNGraph*\n",
    "- c: *float* indicating how important will adjacency matrix be in calculating PageRank in comparrasion to random jumps\n",
    "- e: *numpy.ndarray* of probabilities of random jumps to nodes\n",
    "- eps: *float* change of result that we consider small enough to stop calculations\n",
    "- computed_graph_info: *tuple* information computed by compute_pagerank_graph_info(G)\n",
    "\n",
    "Returns:\n",
    "- ranks: *numpy.ndarray* with calculated ranks of shape (N,1) "
   ]
  },
  {
   "cell_type": "code",
   "execution_count": null,
   "metadata": {},
   "outputs": [],
   "source": [
    "def compute_pagerank_graph_info(G):\n",
    "    # Map node number to index in matrix\n",
    "    mapping = {}\n",
    "    \n",
    "    # Map index to node number\n",
    "    inv_mapping = []\n",
    "\n",
    "    for i, node in enumerate(G.Nodes()):\n",
    "        mapping[node.GetId()] = i\n",
    "        inv_mapping.append(node.GetId())\n",
    "\n",
    "    # Getting number of nodes\n",
    "    N = len(inv_mapping)\n",
    "    \n",
    "    # Getting out degrees of all nodes\n",
    "    out_degs = np.zeros(N)\n",
    "    for node in G.Nodes():\n",
    "        out_degs[mapping[node.GetId()]] = node.GetOutDeg() \n",
    "\n",
    "    # Calculating transposed adjacency matrix\n",
    "    A = sparse.lil_matrix((N,N), dtype=np.float32)\n",
    "    for edge in G.Edges():\n",
    "        A[mapping[edge.GetDstNId()], mapping[edge.GetSrcNId()]] = 1/out_degs[mapping[edge.GetSrcNId()]]\n",
    "    \n",
    "    return (A, N, mapping, inv_mapping)\n",
    "\n",
    "def page_rank(G, c = 0.9, e=None, eps=10e-6, computed_graph_info=None):\n",
    "    (A, N, mapping, inv_mapping) = compute_pagerank_graph_info(G) if computed_graph_info is None else computed_graph_info\n",
    "    \n",
    "    if e is None:\n",
    "        e = np.ones((N,1), dtype=np.float32)/N\n",
    "            \n",
    "    B_A = c * A\n",
    "    B_e = (1 - c) * e\n",
    "    rn = np.ones((N,1), dtype=np.float32)/N\n",
    "    while True:\n",
    "        r0 = rn\n",
    "        rn = B_A @ r0 + B_e * np.sum(r0)\n",
    "        d = np.sum(np.abs(r0)) - np.sum(np.abs(rn))\n",
    "        rn += d*e\n",
    "        delta = np.sum(np.abs(rn - r0))\n",
    "        if delta < eps:\n",
    "            break\n",
    "    return r0, mapping, inv_mapping"
   ]
  },
  {
   "cell_type": "markdown",
   "metadata": {},
   "source": [
    "### PageRank testing"
   ]
  },
  {
   "cell_type": "code",
   "execution_count": null,
   "metadata": {
    "scrolled": false
   },
   "outputs": [],
   "source": [
    "print(\"Simple cycle\")\n",
    "pr_cycle, _, _ = page_rank(nx_to_snap(G_cycle))\n",
    "draw_ranks(G_cycle, pr_cycle, layout=nx.circular_layout)\n",
    "\n",
    "print(\"Cycle with main sink\")\n",
    "pr_cycle_main, _, _ = page_rank(nx_to_snap(G_cycle_with_main))\n",
    "draw_ranks(G_cycle_with_main, pr_cycle_main, layout=nx.circular_layout)\n",
    "\n",
    "print(\"\\\"Heap\\\" with back edges\")\n",
    "pr_heap, _, _ = page_rank(nx_to_snap(G_heap_with_main))\n",
    "draw_ranks(G_heap_with_main, pr_heap, layout=lambda G: nx.drawing.nx_agraph.graphviz_layout(G, prog='dot'))"
   ]
  },
  {
   "cell_type": "markdown",
   "metadata": {},
   "source": [
    "### Influence of *c* parameter\n",
    "Examples below show that by changing *c* we can tell PageRank algorithm how important adjacency matrix is for us. By setting *c* smaller, results get more and more similar to uniform distribution. It is caused by default, uniform distribution of *e*. In conclusion the smaller *c*, the more important random jumps are in algorithm. "
   ]
  },
  {
   "cell_type": "code",
   "execution_count": null,
   "metadata": {
    "scrolled": false
   },
   "outputs": [],
   "source": [
    "# c = 0.7\n",
    "\n",
    "print(\"Simple cycle\")\n",
    "pr_cycle, _, _ = page_rank(nx_to_snap(G_cycle), c=0.7)\n",
    "draw_ranks(G_cycle, pr_cycle, layout=nx.circular_layout)\n",
    "\n",
    "print(\"Cycle with main sink\")\n",
    "pr_cycle_main, _, _ = page_rank(nx_to_snap(G_cycle_with_main), c=0.7)\n",
    "draw_ranks(G_cycle_with_main, pr_cycle_main, layout=nx.circular_layout)\n",
    "\n",
    "print(\"\\\"Heap\\\" with back edges\")\n",
    "pr_heap, _, _ = page_rank(nx_to_snap(G_heap_with_main), c=0.7)\n",
    "draw_ranks(G_heap_with_main, pr_heap, layout=lambda G: nx.drawing.nx_agraph.graphviz_layout(G, prog='dot'))"
   ]
  },
  {
   "cell_type": "code",
   "execution_count": null,
   "metadata": {
    "scrolled": false
   },
   "outputs": [],
   "source": [
    "# c = 0.5\n",
    "\n",
    "print(\"Simple cycle\")\n",
    "pr_cycle, _, _ = page_rank(nx_to_snap(G_cycle), c=0.5)\n",
    "draw_ranks(G_cycle, pr_cycle, layout=nx.circular_layout)\n",
    "\n",
    "print(\"Cycle with main sink\")\n",
    "pr_cycle_main, _, _ = page_rank(nx_to_snap(G_cycle_with_main), c=0.5)\n",
    "draw_ranks(G_cycle_with_main, pr_cycle_main, layout=nx.circular_layout)\n",
    "\n",
    "print(\"\\\"Heap\\\" with back edges\")\n",
    "pr_heap, _, _ = page_rank(nx_to_snap(G_heap_with_main), c=0.5)\n",
    "draw_ranks(G_heap_with_main, pr_heap, layout=lambda G: nx.drawing.nx_agraph.graphviz_layout(G, prog='dot'))"
   ]
  },
  {
   "cell_type": "code",
   "execution_count": null,
   "metadata": {
    "scrolled": false
   },
   "outputs": [],
   "source": [
    "# c = 0.01\n",
    "\n",
    "print(\"Simple cycle\")\n",
    "pr_cycle, _, _ = page_rank(nx_to_snap(G_cycle), c=0.01)\n",
    "draw_ranks(G_cycle, pr_cycle, layout=nx.circular_layout)\n",
    "\n",
    "print(\"Cycle with main sink\")\n",
    "pr_cycle_main, _, _ = page_rank(nx_to_snap(G_cycle_with_main), c=0.01)\n",
    "draw_ranks(G_cycle_with_main, pr_cycle_main, layout=nx.circular_layout)\n",
    "\n",
    "print(\"\\\"Heap\\\" with back edges\")\n",
    "pr_heap, _, _ = page_rank(nx_to_snap(G_heap_with_main), c=0.01)\n",
    "draw_ranks(G_heap_with_main, pr_heap, layout=lambda G: nx.drawing.nx_agraph.graphviz_layout(G, prog='dot'))"
   ]
  },
  {
   "cell_type": "markdown",
   "metadata": {},
   "source": [
    "### Influence of *e* parameter\n",
    "Vector *e* tells likely it is to make jump to corresponding node. By manipulating it, algorithm can customize results of PageRank (the smaller parameter *c* is, the more visible customization we get). \n",
    "\n",
    "The best example here is simple cycle. By changing *c* parameter nothing changed in cycle's PageRank because all nodes had same parameters. Changing *e* for one of them, made it the most important node in our graph, algorithm started to prefer it when random jumps were made.\n",
    "\n",
    "Another good example is setting *e[2]* 1000 times larger than other probabilities for heap with backedges to node 0. In this case one of root's child got PageRank score almost 2 times bigger than other child and so it's subtrees scores also increased."
   ]
  },
  {
   "cell_type": "code",
   "execution_count": null,
   "metadata": {
    "scrolled": false
   },
   "outputs": [],
   "source": [
    "# e[0] - 50 times bigger \n",
    "\n",
    "print(\"Simple cycle\")\n",
    "N_cycle = len(list(G_cycle.nodes()))\n",
    "e_cycle = np.ones((N_cycle,1))\n",
    "e_cycle[0] = 50\n",
    "e_cycle /= np.sum(np.abs(e_cycle))\n",
    "pr_cycle, _, _ = page_rank(nx_to_snap(G_cycle), e = e_cycle)\n",
    "draw_ranks(G_cycle, pr_cycle, layout=nx.circular_layout)\n",
    "\n",
    "print(\"Cycle with main sink\")\n",
    "N_cycle_with_main = len(list(G_cycle_with_main.nodes()))\n",
    "e_cycle_with_main = np.ones((N_cycle_with_main,1))\n",
    "e_cycle_with_main[0] = 50\n",
    "e_cycle_with_main /= np.sum(np.abs(e_cycle_with_main))\n",
    "pr_cycle_main, _, _ = page_rank(nx_to_snap(G_cycle_with_main), e = e_cycle_with_main)\n",
    "draw_ranks(G_cycle_with_main, pr_cycle_main, layout=nx.circular_layout)\n",
    "\n",
    "print(\"\\\"Heap\\\" with back edges\")\n",
    "N_heap_with_main = len(list(G_heap_with_main.nodes()))\n",
    "e_heap_with_main = np.ones((N_heap_with_main,1))\n",
    "e_heap_with_main[0] = 50\n",
    "e_heap_with_main /= np.sum(np.abs(e_heap_with_main))\n",
    "pr_heap, _, _ = page_rank(nx_to_snap(G_heap_with_main), e = e_heap_with_main)\n",
    "draw_ranks(G_heap_with_main, pr_heap, layout=lambda G: nx.drawing.nx_agraph.graphviz_layout(G, prog='dot'))"
   ]
  },
  {
   "cell_type": "code",
   "execution_count": null,
   "metadata": {
    "scrolled": false
   },
   "outputs": [],
   "source": [
    "# e[2] - 1000 times bigger \n",
    "\n",
    "print(\"Simple cycle\")\n",
    "N_cycle = len(list(G_cycle.nodes()))\n",
    "e_cycle = np.ones((N_cycle,1))\n",
    "e_cycle[2] = 1000\n",
    "e_cycle /= np.sum(np.abs(e_cycle))\n",
    "pr_cycle, _, _ = page_rank(nx_to_snap(G_cycle), e = e_cycle)\n",
    "draw_ranks(G_cycle, pr_cycle, layout=nx.circular_layout)\n",
    "\n",
    "print(\"Cycle with main sink\")\n",
    "N_cycle_with_main = len(list(G_cycle_with_main.nodes()))\n",
    "e_cycle_with_main = np.ones((N_cycle_with_main,1))\n",
    "e_cycle_with_main[2] = 1000\n",
    "e_cycle_with_main /= np.sum(np.abs(e_cycle_with_main))\n",
    "pr_cycle_main, _, _ = page_rank(nx_to_snap(G_cycle_with_main), e=e_cycle_with_main)\n",
    "draw_ranks(G_cycle_with_main, pr_cycle_main, layout=nx.circular_layout)\n",
    "\n",
    "print(\"\\\"Heap\\\" with back edges\")\n",
    "N_heap_with_main = len(list(G_heap_with_main.nodes()))\n",
    "e_heap_with_main = np.ones((N_heap_with_main,1))\n",
    "e_heap_with_main[2] = 1000\n",
    "e_heap_with_main /= np.sum(np.abs(e_heap_with_main))\n",
    "pr_heap, _, _ = page_rank(nx_to_snap(G_heap_with_main), e = e_heap_with_main)\n",
    "draw_ranks(G_heap_with_main, pr_heap, layout=lambda G: nx.drawing.nx_agraph.graphviz_layout(G, prog='dot'))"
   ]
  },
  {
   "cell_type": "markdown",
   "metadata": {},
   "source": [
    "## Arxiv HEP-TH\n",
    "Directed graph of high energy physics theory articles as nodes and citations between them as directed edges which were collected in years 1994-2003. Dataset statistics:\n",
    "- 27,770 nodes \n",
    "- 352,807 edges\n",
    "\n",
    "Data provided by SNAP database → https://snap.stanford.edu/data/cit-HepTh.html Text files with articles' basic information are also available there"
   ]
  },
  {
   "cell_type": "code",
   "execution_count": null,
   "metadata": {},
   "outputs": [],
   "source": [
    "G_hep_cit = load_snap(\"Cit-HepTh.txt\")\n",
    "pr_hep_cit, hep_cit_mapping, hep_cit_inv_mapping = page_rank(G_hep_cit)"
   ]
  },
  {
   "cell_type": "code",
   "execution_count": null,
   "metadata": {},
   "outputs": [],
   "source": [
    "N = len(hep_cit_inv_mapping)\n",
    "hep_cit_biggest_ranks = list(\n",
    "    map(\n",
    "        lambda i: hep_cit_inv_mapping[i], \n",
    "        heapq.nlargest(\n",
    "            10, \n",
    "            range(N), \n",
    "            key=lambda i: pr_hep_cit[i]\n",
    "        )\n",
    "    )\n",
    ")\n",
    "\n",
    "if os.path.isdir(\"cits_hep\"):\n",
    "    for number in hep_cit_biggest_ranks:\n",
    "        print(f\"{number} rank: {pr_hep_cit[hep_cit_mapping[number]]}\")\n",
    "        with open(f\"cits_hep/{number}.abs\", \"r\") as file:\n",
    "            print(file.read())\n",
    "        print(\"________________________________\")\n",
    "else:\n",
    "    print(\">>>\\nTo print articles info \\'cits_hep\\' directory is needed with all *.abs files available at https://snap.stanford.edu/data/cit-HepTh.html\\n>>>\\n\")\n",
    "    for number in hep_cit_biggest_ranks:\n",
    "        print(f\"{number} rank: {pr_hep_cit[hep_cit_mapping[number]]}\")\n",
    "        print(\"________________________________\")"
   ]
  },
  {
   "cell_type": "markdown",
   "metadata": {},
   "source": [
    "## US Patents citation graph\n",
    "Next example is directed graph of US patents as nodes and citations between them as directed edges which were collected in years 1975-1999. Dataset statistics:\n",
    "- 3,774,768 nodes \n",
    "- 16,518,948 edges\n",
    "\n",
    "Because of its volume it is not provided with project but it is available to download at https://snap.stanford.edu/data/cit-Patents.html. Precomputed results are under the source code."
   ]
  },
  {
   "cell_type": "code",
   "execution_count": null,
   "metadata": {},
   "outputs": [],
   "source": [
    "pat_graph_info = None\n",
    "try:\n",
    "    G_pat = load_snap(\"cit-Patents.txt\")\n",
    "    if pat_graph_info is None:\n",
    "        pat_graph_info = compute_pagerank_graph_info(G_pat)\n",
    "except FileNotFoundError:\n",
    "    print(\"You need cit-Patents.txt from https://snap.stanford.edu/data/cit-Patents.html to proceed\")"
   ]
  },
  {
   "cell_type": "code",
   "execution_count": null,
   "metadata": {
    "scrolled": false
   },
   "outputs": [],
   "source": [
    "try:\n",
    "    if pat_graph_info is None:\n",
    "        raise FileNotFoundError\n",
    "    pr_pat, pat_mapping, pat_inv_mapping = page_rank(G_pat, computed_graph_info=pat_graph_info)\n",
    "    N = len(pat_inv_mapping)\n",
    "    pat_biggest_ranks = list(\n",
    "        map(\n",
    "            lambda i: pat_inv_mapping[i], \n",
    "            heapq.nlargest(\n",
    "                10, \n",
    "                range(N), \n",
    "                key=lambda i: pr_pat[i]\n",
    "            )\n",
    "        )\n",
    "    )\n",
    "    for number in pat_biggest_ranks:\n",
    "        print(f\"{number} rank: {pr_pat[pat_mapping[number]]}\")\n",
    "        print(f\"https://patents.google.com/patent/US{number}A/\")\n",
    "        print(\"________________________________\")\n",
    "except FileNotFoundError:\n",
    "    print(\"You need cit-Patents.txt from https://snap.stanford.edu/data/cit-Patents.html to proceed\")"
   ]
  },
  {
   "cell_type": "markdown",
   "metadata": {},
   "source": [
    "### Top 10 patents by PageRank\n",
    "- Rank: 9.78e-05\n",
    "    - https://patents.google.com/patent/US4237224A/\n",
    "\n",
    "- Rank: 8.94e-05\n",
    "    - https://patents.google.com/patent/US3813316A/\n",
    "\n",
    "- Rank: 5.30e-05\n",
    "    - https://patents.google.com/patent/US3932805A/\n",
    "\n",
    "- Rank: 4.31e-05\n",
    "    - https://patents.google.com/patent/US4395486A/\n",
    "\n",
    "- Rank: 4.17e-05\n",
    "    - https://patents.google.com/patent/US4298685A/\n",
    "\n",
    "- Rank: 3.89e-05\n",
    "    - https://patents.google.com/patent/US3778614A/\n",
    "\n",
    "- Rank: 3.74e-05\n",
    "    - https://patents.google.com/patent/US4683195A/\n",
    "\n",
    "- Rank: 3.42e-05\n",
    "    - https://patents.google.com/patent/US4683202A/\n",
    "\n",
    "- Rank: 3.40e-05\n",
    "    - https://patents.google.com/patent/US3789832A/\n",
    "\n",
    "- Rank: 3.40e-05\n",
    "    - https://patents.google.com/patent/US3950357A/"
   ]
  }
 ],
 "metadata": {
  "kernelspec": {
   "display_name": "Python 3",
   "language": "python",
   "name": "python3"
  },
  "language_info": {
   "codemirror_mode": {
    "name": "ipython",
    "version": 3
   },
   "file_extension": ".py",
   "mimetype": "text/x-python",
   "name": "python",
   "nbconvert_exporter": "python",
   "pygments_lexer": "ipython3",
   "version": "3.7.4"
  }
 },
 "nbformat": 4,
 "nbformat_minor": 2
}
