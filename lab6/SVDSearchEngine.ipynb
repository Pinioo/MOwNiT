{
 "cells": [
  {
   "cell_type": "code",
   "execution_count": 1,
   "metadata": {},
   "outputs": [],
   "source": [
    "import os\n",
    "import numpy as np\n",
    "\n",
    "def get_all_txt(path):\n",
    "    list_of_files = []\n",
    "    for r, _, files in os.walk(path):\n",
    "        for f in files:\n",
    "            if f.endswith(\".txt\") and os.path.getsize(os.path.join(r,f)) > 0: \n",
    "                list_of_files.append(os.path.join(r,f))\n",
    "    return list_of_files\n",
    "            \n",
    "\n",
    "def article_reader(file_name):\n",
    "    with open(file_name, 'r') as file:\n",
    "        for line in file.readlines():\n",
    "            for word in line.split(\" \"):\n",
    "                if word:\n",
    "                    yield word\n",
    "\n",
    "\n",
    "class SearchEngine:\n",
    "    def __init__(self, filenames):\n",
    "        self.word_map = None\n",
    "        self.index_map = None\n",
    "        self.bag_of_words = None\n",
    "        self.terms_matrix = None\n",
    "        self.idf_m = None\n",
    "        \n",
    "        self.filenames = filenames\n",
    "        self.files_count = len(filenames)\n",
    "        \n",
    "        self.compute_bag_of_words()\n",
    "        self.create_mappings()\n",
    "        self.words_count = len(self.index_map)\n",
    "    \n",
    "    \n",
    "    def compute_bag_of_words(self):\n",
    "        self.bag_of_words = set()\n",
    "        for file in self.filenames:\n",
    "            for word in article_reader(file):\n",
    "                self.bag_of_words.add(word)\n",
    "\n",
    "\n",
    "    def create_mappings(self):\n",
    "        self.word_map = dict()\n",
    "        self.index_map = []\n",
    "        for (i, word) in enumerate(self.bag_of_words):\n",
    "            self.index_map.append(word)\n",
    "            self.word_map[word] = i\n",
    "\n",
    "\n",
    "    def compute_terms_matrix(self):\n",
    "        self.terms_matrix = np.zeros(shape=(self.files_count, self.words_count))\n",
    "        for i, file_name in enumerate(self.filenames):\n",
    "            for word in article_reader(file_name):\n",
    "                self.terms_matrix[i, self.word_map[word]] += 1\n",
    "\n",
    "\n",
    "    def words_frequency(self, words):\n",
    "        result = np.zeros(self.words_count)\n",
    "        for word in words:\n",
    "            result[self.word_map[word]] += 1\n",
    "        return result\n",
    "\n",
    "\n",
    "    def idf(self):\n",
    "        self.idf_m = np.repeat(self.files_count, self.words_count) / np.count_nonzero(self.terms_matrix, axis = 0)\n",
    "\n",
    "\n",
    "    def idf_matrix_format(self):\n",
    "        self.terms_matrix = self.terms_matrix * self.idf_m[np.newaxis,:]\n",
    "\n",
    "\n",
    "    def calculate_probability(self, key_words):\n",
    "        q_vec = self.idf_m * self.words_frequency(key_words)\n",
    "        q_norm = np.linalg.norm(q_vec)\n",
    "        d_norms = np.linalg.norm(self.terms_matrix, axis=1)\n",
    "        return q_vec @ self.terms_matrix.T / (q_norm * d_norms)\n",
    "\n",
    "\n",
    "    def calculate_probability_normed(self, key_words):\n",
    "        q_vec = self.idf_m * self.words_frequency(key_words)\n",
    "        q_norm = np.linalg.norm(q_vec)\n",
    "\n",
    "        q_vec = q_vec / q_norm\n",
    "\n",
    "        d_norms = np.linalg.norm(self.terms_matrix, axis=1)\n",
    "        term_normed = self.terms_matrix / d_norms[:,np.newaxis]\n",
    "        return q_vec @ term_normed.T\n",
    "\n",
    "\n",
    "    def find_n_articles(self, key_words, n):\n",
    "        if not self.terms_matrix:\n",
    "            self.compute_terms_matrix()\n",
    "        if not self.idf_m:\n",
    "            self.idf()\n",
    "            self.idf_matrix_format()\n",
    "            \n",
    "        probs = self.calculate_probability_normed(key_words)\n",
    "            \n",
    "        return list(self.filenames[i] for i in np.argsort(probs)[::-1][:n])"
   ]
  },
  {
   "cell_type": "code",
   "execution_count": 4,
   "metadata": {},
   "outputs": [
    {
     "name": "stdout",
     "output_type": "stream",
     "text": [
      "['wikiarticles_2/Godwin_Laboratory,_University_of_Cambridge.txt', 'wikiarticles_2/Pawel_Tabakow.txt', 'wikiarticles_2/Fair_dealing_in_United_Kingdom_law.txt', 'wikiarticles_2/G._Michael_Purdy.txt', 'wikiarticles_2/Danny_Welch.txt']\n"
     ]
    }
   ],
   "source": [
    "engine = SearchEngine(get_all_txt(\"wikiarticles_2\"))\n",
    "\n",
    "print(engine.find_n_articles([\"research\"], 5))\n"
   ]
  },
  {
   "cell_type": "code",
   "execution_count": 3,
   "metadata": {},
   "outputs": [
    {
     "name": "stdout",
     "output_type": "stream",
     "text": [
      "55129\n"
     ]
    }
   ],
   "source": [
    "print(engine.words_count)"
   ]
  },
  {
   "cell_type": "code",
   "execution_count": null,
   "metadata": {},
   "outputs": [],
   "source": []
  }
 ],
 "metadata": {
  "kernelspec": {
   "display_name": "Python 3",
   "language": "python",
   "name": "python3"
  },
  "language_info": {
   "codemirror_mode": {
    "name": "ipython",
    "version": 3
   },
   "file_extension": ".py",
   "mimetype": "text/x-python",
   "name": "python",
   "nbconvert_exporter": "python",
   "pygments_lexer": "ipython3",
   "version": "3.7.4"
  }
 },
 "nbformat": 4,
 "nbformat_minor": 2
}
