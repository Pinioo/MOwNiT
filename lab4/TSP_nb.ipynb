{
 "cells": [
  {
   "cell_type": "code",
   "execution_count": null,
   "metadata": {},
   "outputs": [],
   "source": [
    "%matplotlib qt\n",
    "\n",
    "import numpy as np\n",
    "from scipy.stats import bernoulli\n",
    "import matplotlib.pyplot as plt\n",
    "from matplotlib import animation"
   ]
  },
  {
   "cell_type": "code",
   "execution_count": null,
   "metadata": {},
   "outputs": [],
   "source": [
    "ARBITRARY_SWAP = True\n",
    "CONSECUTIVE_SWAP = False\n",
    "\n",
    "def distance(point1, point2):\n",
    "    return np.sqrt((point1[0] - point2[0])**2 + (point1[1] - point2[1])**2)\n",
    "\n",
    "    \n",
    "def tsp_annealing(points, Tmax = None, Tmin = None, Tchange = lambda T: 0.99*T, mode=ARBITRARY_SWAP):\n",
    "    n = len(points)\n",
    "    \n",
    "    distances = {(points[i][0], points[i][1], points[j][0], points[j][1]): distance(points[i], points[j]) for j in range(n) for i in range(n)}\n",
    "    \n",
    "    def path_energy(path):\n",
    "        E = 0\n",
    "        n = len(path)\n",
    "        for i in range(n):\n",
    "            j = (i + 1) % n\n",
    "            E += distances[path[i][0], path[i][1], path[j][0], path[j][1]]\n",
    "        return E\n",
    "    \n",
    "    x_min = np.min(points[:, 0])\n",
    "    x_max = np.max(points[:, 0])\n",
    "    \n",
    "    y_min = np.min(points[:, 1])\n",
    "    y_max = np.max(points[:, 1])\n",
    "    \n",
    "    max_dist = np.sqrt((x_max - x_min)**2 + (y_max - y_min)**2)\n",
    "    \n",
    "    if Tmax is None:\n",
    "        Tmax = 2 * n * max_dist / np.log(2)\n",
    "        \n",
    "    if Tmin is None:\n",
    "        Tmin = max_dist / (n * 20 * np.log(20))\n",
    "    \n",
    "    current_path = points\n",
    "    current_energy = path_energy(current_path)\n",
    "    energies = [current_energy]\n",
    "    paths = [current_path]\n",
    "    T = Tmax\n",
    "    while T > Tmin:\n",
    "        for _ in range(100):\n",
    "            start_point = np.random.randint(0, n)\n",
    "            \n",
    "            if mode is ARBITRARY_SWAP:\n",
    "                end_point = start_point + np.random.randint(0, n)\n",
    "\n",
    "                if end_point >= n:\n",
    "                    (start_point, end_point) = (end_point - n, start_point)\n",
    "                    \n",
    "                new_path = current_path.copy()\n",
    "                new_path[start_point : end_point + 1] = new_path[start_point : end_point + 1][::-1] \n",
    "                new_energy = path_energy(new_path)\n",
    "                \n",
    "            else:\n",
    "                new_path = current_path.copy()\n",
    "                new_path[start_point-1:start_point+1] = new_path[start_point-1:start_point+1][::-1] \n",
    "                new_energy = path_energy(new_path)\n",
    "\n",
    "            delta_energy = new_energy - current_energy\n",
    "            if delta_energy < 0 or bernoulli.rvs(p=np.exp(-delta_energy/T)) == 1:\n",
    "                current_path = new_path\n",
    "                current_energy = new_energy\n",
    "        \n",
    "        paths.append(current_path)\n",
    "        energies.append(current_energy)\n",
    "        T = Tchange(T)\n",
    "\n",
    "    return (np.array(paths), energies)"
   ]
  },
  {
   "cell_type": "code",
   "execution_count": null,
   "metadata": {},
   "outputs": [],
   "source": [
    "def show_solution(path):\n",
    "    path = np.vstack((path, [path[0]]))\n",
    "\n",
    "    fig = plt.figure()\n",
    "    ax1 = fig.add_subplot(1,1,1)\n",
    "\n",
    "    plt.plot(path[:, 0], path[:, 1])\n",
    "    plt.show()"
   ]
  },
  {
   "cell_type": "code",
   "execution_count": null,
   "metadata": {},
   "outputs": [],
   "source": [
    "def animate_tsp(found_paths, found_lengths):\n",
    "    fig = plt.figure()\n",
    "    ax = fig.add_subplot(1,1,1)\n",
    "    n = len(found_lengths)\n",
    "    \n",
    "    paths_data = found_paths[0::10]\n",
    "    lengths_data = found_lengths[0::10]\n",
    "    \n",
    "    if n % 10 != 0:\n",
    "        paths_data = np.append(paths_data, [found_paths[-1]], axis=0)\n",
    "        lengths_data = np.append(lengths_data, [found_lengths[-1]], axis=0)\n",
    "    \n",
    "    def animate(i):\n",
    "        data = paths_data[i]\n",
    "\n",
    "        data = np.append(data, [data[0]], axis=0)\n",
    "        \n",
    "        ax.clear()\n",
    "        ax.plot(data[:, 0], data[:, 1])\n",
    "\n",
    "        iteration = i*10 if i*10 < n else n-1\n",
    "        \n",
    "        plt.xlabel('x')\n",
    "        plt.ylabel('y')\n",
    "        plt.title(f\"Iteration {iteration}: length: {np.round(lengths_data[i], 2)}\")\n",
    "        \n",
    "    return animation.FuncAnimation(fig, animate, frames=len(lengths_data), interval=2)"
   ]
  },
  {
   "cell_type": "markdown",
   "metadata": {},
   "source": [
    "# Przykładowe dane"
   ]
  },
  {
   "cell_type": "code",
   "execution_count": null,
   "metadata": {},
   "outputs": [],
   "source": [
    "uniform_10 = np.random.uniform(0, 10, size=(10,2))\n",
    "uniform_50 = np.random.uniform(0, 10, size=(50,2))\n",
    "uniform_100 = np.random.uniform(0, 10, size=(100,2))\n",
    "\n",
    "uni_arr = [uniform_10, uniform_50, uniform_100]\n",
    "\n",
    "normal_20 = np.vstack(list(np.random.normal([np.random.uniform(0,40), np.random.uniform(0,40)], i/2+1, size=(5,2)) for i in range(4)))\n",
    "normal_60 = np.vstack(list(np.random.normal([np.random.uniform(0,40), np.random.uniform(0,40)], i/2+1, size=(15,2)) for i in range(4)))\n",
    "normal_100 = np.vstack(list(np.random.normal([np.random.uniform(0,40), np.random.uniform(0,40)], i/2+1, size=(25,2)) for i in range(4)))\n",
    "\n",
    "norm_arr = [normal_10, normal_50, normal_100]\n",
    "\n",
    "from itertools import product\n",
    "\n",
    "separated_27 = np.vstack(list(np.random.uniform([10*i, 10*j], [10*i + 5, 10*j + 5], size=(3, 2)) for i, j in product(range(3),repeat=2)))\n",
    "separated_90 = np.vstack(list(np.random.uniform([10*i, 10*j], [10*i + 5, 10*j + 5], size=(10, 2)) for i, j in product(range(3),repeat=2)))\n",
    "separated_270 = np.vstack(list(np.random.uniform([10*i, 10*j], [10*i + 5, 10*j + 5], size=(30, 2)) for i, j in product(range(3),repeat=2)))\n",
    "\n",
    "plt.plot(normal_100[:,0], normal_100[:,1], 'ro')\n",
    "\n",
    "sep_arr = [separated_27, separated_90, separated_270]"
   ]
  },
  {
   "cell_type": "code",
   "execution_count": null,
   "metadata": {},
   "outputs": [],
   "source": [
    "fig, ((ax1, ax2), (ax3, ax4)) = plt.subplots(2,2)\n",
    "\n",
    "axes = [ax1, ax2, ax3, ax4]\n",
    "\n",
    "for i, ex in enumerate(uni_arr):\n",
    "    paths, _ = tsp_annealing(ex)\n",
    "    path = paths[-1]\n",
    "    path = np.vstack((path, [path[0]]))\n",
    "\n",
    "    axes[i].plot(path[:, 0], path[:, 1])\n",
    "\n",
    "plt.show()"
   ]
  },
  {
   "cell_type": "code",
   "execution_count": null,
   "metadata": {},
   "outputs": [],
   "source": [
    "fig, ((ax1, ax2), (ax3, ax4)) = plt.subplots(2,2)\n",
    "\n",
    "axes = [ax1, ax2, ax3, ax4]\n",
    "\n",
    "for i, ex in enumerate(norm_arr):\n",
    "    paths, _ = tsp_annealing(ex)\n",
    "    path = paths[-1]\n",
    "    path = np.vstack((path, [path[0]]))\n",
    "\n",
    "    axes[i].plot(path[:, 0], path[:, 1])\n",
    "\n",
    "plt.show()"
   ]
  },
  {
   "cell_type": "code",
   "execution_count": null,
   "metadata": {},
   "outputs": [],
   "source": [
    "fig, ((ax1, ax2), (ax3, ax4)) = plt.subplots(2,2)\n",
    "\n",
    "axes = [ax1, ax2, ax3, ax4]\n",
    "\n",
    "for i, ex in enumerate(sep_arr):\n",
    "    paths, _ = tsp_annealing(ex)\n",
    "    path = paths[-1]\n",
    "    path = np.vstack((path, [path[0]]))\n",
    "\n",
    "    axes[i].plot(path[:, 0], path[:, 1])\n",
    "\n",
    "plt.show()"
   ]
  },
  {
   "cell_type": "markdown",
   "metadata": {},
   "source": [
    "# Animacja pokazująca działanie"
   ]
  },
  {
   "cell_type": "code",
   "execution_count": null,
   "metadata": {},
   "outputs": [],
   "source": [
    "paths, lens = tsp_annealing(uniform_50)\n",
    "ani = animate_tsp(paths, lens)"
   ]
  },
  {
   "cell_type": "markdown",
   "metadata": {},
   "source": [
    "# Zbieżność rozwiązania w zależności od funkcji zmiany temperatury"
   ]
  },
  {
   "cell_type": "code",
   "execution_count": null,
   "metadata": {},
   "outputs": [],
   "source": [
    "_, lens1 = tsp_annealing(uniform_50, Tchange=lambda T: 0.8*T)\n",
    "_, lens2 = tsp_annealing(uniform_50, Tchange=lambda T: 0.9*T)\n",
    "_, lens3 = tsp_annealing(uniform_50, Tchange=lambda T: 0.95*T)\n",
    "_, lens4 = tsp_annealing(uniform_50, Tchange=lambda T: 0.99*T)\n",
    "\n",
    "fig, ((ax1, ax2), (ax3, ax4)) = plt.subplots(2,2)\n",
    "\n",
    "ax1.plot(lens1)\n",
    "ax2.plot(lens2)\n",
    "ax3.plot(lens3)\n",
    "ax4.plot(lens4)\n",
    "plt.show()"
   ]
  },
  {
   "cell_type": "markdown",
   "metadata": {},
   "source": [
    "# Zbieżność rozwiązania w zależności od sposobu wyboru sąsiadów"
   ]
  },
  {
   "cell_type": "code",
   "execution_count": null,
   "metadata": {},
   "outputs": [],
   "source": [
    "_, lens1 = tsp_annealing(uniform_50, mode=ARBITRARY_SWAP)\n",
    "_, lens2 = tsp_annealing(uniform_50, mode=CONSECUTIVE_SWAP)\n",
    "\n",
    "fig, (ax1, ax2) = plt.subplots(2)\n",
    "\n",
    "ax1.plot(lens1)\n",
    "ax2.plot(lens2)\n",
    "plt.show()"
   ]
  },
  {
   "cell_type": "code",
   "execution_count": null,
   "metadata": {},
   "outputs": [],
   "source": []
  }
 ],
 "metadata": {
  "kernelspec": {
   "display_name": "Python 3",
   "language": "python",
   "name": "python3"
  },
  "language_info": {
   "codemirror_mode": {
    "name": "ipython",
    "version": 3
   },
   "file_extension": ".py",
   "mimetype": "text/x-python",
   "name": "python",
   "nbconvert_exporter": "python",
   "pygments_lexer": "ipython3",
   "version": "3.7.4"
  }
 },
 "nbformat": 4,
 "nbformat_minor": 1
}
